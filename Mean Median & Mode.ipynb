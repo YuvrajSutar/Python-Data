{
 "cells": [
  {
   "cell_type": "markdown",
   "id": "cd8aeb1d",
   "metadata": {},
   "source": [
    "________________________________________________________________________________________________________________________\n",
    "\n",
    "\n",
    "* Yuvraj Sutar \n",
    "* yuvrajsutar009@gmail.com\n",
    "_ _________________________________________________________________________________________________________________________\n",
    "_  _________________________________________________________________________________________________________________________\n"
   ]
  },
  {
   "cell_type": "code",
   "execution_count": 1,
   "id": "04ba84a1",
   "metadata": {},
   "outputs": [],
   "source": [
    "import pandas as pd\n",
    "import matplotlib.pyplot as plt\n",
    "import seaborn as sns\n",
    "from scipy import stats\n"
   ]
  },
  {
   "cell_type": "code",
   "execution_count": 2,
   "id": "0738972a",
   "metadata": {},
   "outputs": [],
   "source": [
    "#Data \n",
    "a=[20,21,23,22,23,20,21,23,24,23,23,22,21,800,1]"
   ]
  },
  {
   "cell_type": "code",
   "execution_count": 3,
   "id": "5830bf37",
   "metadata": {},
   "outputs": [
    {
     "name": "stdout",
     "output_type": "stream",
     "text": [
      "Q1: 21.0\n"
     ]
    }
   ],
   "source": [
    "#percentile...\n",
    "\n",
    "import numpy as np \n",
    "Q1 = np.percentile(a,22)\n",
    "print('Q1:',Q1)"
   ]
  },
  {
   "cell_type": "code",
   "execution_count": 4,
   "id": "29371334",
   "metadata": {},
   "outputs": [
    {
     "name": "stdout",
     "output_type": "stream",
     "text": [
      "72.46666666666667\n"
     ]
    }
   ],
   "source": [
    "#mean.....\n",
    "\n",
    "import numpy\n",
    "x = numpy.mean(a)\n",
    "print(x)"
   ]
  },
  {
   "cell_type": "code",
   "execution_count": 5,
   "id": "1344f0bd",
   "metadata": {},
   "outputs": [
    {
     "name": "stdout",
     "output_type": "stream",
     "text": [
      "ModeResult(mode=array([23]), count=array([5]))\n"
     ]
    }
   ],
   "source": [
    "#Mode.....\n",
    "\n",
    "x = stats.mode(a)\n",
    "print(x)"
   ]
  },
  {
   "cell_type": "code",
   "execution_count": 6,
   "id": "81dcecc8",
   "metadata": {},
   "outputs": [
    {
     "name": "stdout",
     "output_type": "stream",
     "text": [
      "Q1: 22.0\n"
     ]
    }
   ],
   "source": [
    "#Median.....\n",
    "\n",
    "Q1 = np.median(a) \n",
    "print('Q1:',Q1)\n"
   ]
  },
  {
   "cell_type": "code",
   "execution_count": 7,
   "id": "9e6ca76b",
   "metadata": {},
   "outputs": [
    {
     "name": "stdout",
     "output_type": "stream",
     "text": [
      "minimum  1\n"
     ]
    }
   ],
   "source": [
    "#minimum....\n",
    "\n",
    "m2=np.min(a)\n",
    "print(\"minimum \",m2)"
   ]
  },
  {
   "cell_type": "code",
   "execution_count": 8,
   "id": "038bdbb6",
   "metadata": {},
   "outputs": [
    {
     "name": "stdout",
     "output_type": "stream",
     "text": [
      "maximum  800\n"
     ]
    }
   ],
   "source": [
    "#maximum....\n",
    "\n",
    "m1=np.max(a)\n",
    "print(\"maximum \",m1)"
   ]
  },
  {
   "cell_type": "code",
   "execution_count": 9,
   "id": "e8896058",
   "metadata": {},
   "outputs": [
    {
     "name": "stdout",
     "output_type": "stream",
     "text": [
      "37836.11555555555\n"
     ]
    }
   ],
   "source": [
    "#variance...\n",
    "\n",
    "x = numpy.var(a)\n",
    "print(x)"
   ]
  },
  {
   "cell_type": "code",
   "execution_count": 10,
   "id": "702e9526",
   "metadata": {},
   "outputs": [
    {
     "name": "stdout",
     "output_type": "stream",
     "text": [
      "799\n"
     ]
    }
   ],
   "source": [
    "#range...\n",
    "\n",
    "x = numpy.ptp(a)\n",
    "print(x)"
   ]
  },
  {
   "cell_type": "code",
   "execution_count": 11,
   "id": "99f88cbc",
   "metadata": {},
   "outputs": [
    {
     "name": "stdout",
     "output_type": "stream",
     "text": [
      "[  1.  21.  22.  23. 800.]\n"
     ]
    }
   ],
   "source": [
    "#quantile...\n",
    "\n",
    "import numpy\n",
    "x = numpy.quantile(a, [0,0.25,0.5,0.75,1])\n",
    "print(x)"
   ]
  },
  {
   "cell_type": "code",
   "execution_count": 12,
   "id": "5778ca0c",
   "metadata": {},
   "outputs": [
    {
     "name": "stdout",
     "output_type": "stream",
     "text": [
      "2.0\n"
     ]
    }
   ],
   "source": [
    "#interquartile range...\n",
    "\n",
    "from scipy import stats\n",
    "a = [20,21,23,22,23,20,21,23,24,23,23,22,21,800,1]\n",
    "x = stats.iqr(a)\n",
    "print(x)"
   ]
  },
  {
   "cell_type": "code",
   "execution_count": 13,
   "id": "7d271475",
   "metadata": {},
   "outputs": [
    {
     "name": "stdout",
     "output_type": "stream",
     "text": [
      "194.51507796455152\n"
     ]
    }
   ],
   "source": [
    "#Standard Deviation...\n",
    "\n",
    "import numpy\n",
    "a = [20,21,23,22,23,20,21,23,24,23,23,22,21,800,1]\n",
    "x = numpy.std(a)\n",
    "print(x)"
   ]
  },
  {
   "cell_type": "markdown",
   "id": "486b0e0d",
   "metadata": {},
   "source": [
    ".............................................................................................................................................................................................................................................................."
   ]
  },
  {
   "cell_type": "code",
   "execution_count": 15,
   "id": "3fcedaa0",
   "metadata": {},
   "outputs": [],
   "source": [
    "#Data \n",
    "b=[20,21,23,22,23,20,21,23,24,23,23,22,21,1]"
   ]
  },
  {
   "cell_type": "code",
   "execution_count": 16,
   "id": "f5bda976",
   "metadata": {},
   "outputs": [
    {
     "name": "stdout",
     "output_type": "stream",
     "text": [
      "20.5\n"
     ]
    }
   ],
   "source": [
    "#mean.....\n",
    "\n",
    "import numpy\n",
    "x = numpy.mean(b)\n",
    "print(x)"
   ]
  },
  {
   "cell_type": "code",
   "execution_count": 17,
   "id": "9a1cecc1",
   "metadata": {},
   "outputs": [
    {
     "name": "stdout",
     "output_type": "stream",
     "text": [
      "ModeResult(mode=array([23]), count=array([5]))\n"
     ]
    }
   ],
   "source": [
    "#Mode.....\n",
    "\n",
    "x = stats.mode(b)\n",
    "print(x)"
   ]
  },
  {
   "cell_type": "code",
   "execution_count": 18,
   "id": "a3c2fab0",
   "metadata": {},
   "outputs": [
    {
     "name": "stdout",
     "output_type": "stream",
     "text": [
      "Q1: 22.0\n"
     ]
    }
   ],
   "source": [
    "#Median.....\n",
    "\n",
    "Q1 = np.median(b) \n",
    "print('Q1:',Q1)"
   ]
  },
  {
   "cell_type": "markdown",
   "id": "e72d5b5c",
   "metadata": {},
   "source": [
    "* Yuvraj Sutar \n",
    "* yuvrajsutar009@gmail.com"
   ]
  }
 ],
 "metadata": {
  "kernelspec": {
   "display_name": "Python 3 (ipykernel)",
   "language": "python",
   "name": "python3"
  },
  "language_info": {
   "codemirror_mode": {
    "name": "ipython",
    "version": 3
   },
   "file_extension": ".py",
   "mimetype": "text/x-python",
   "name": "python",
   "nbconvert_exporter": "python",
   "pygments_lexer": "ipython3",
   "version": "3.9.7"
  }
 },
 "nbformat": 4,
 "nbformat_minor": 5
}
