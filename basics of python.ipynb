{
 "cells": [
  {
   "cell_type": "markdown",
   "id": "5c2c2a02",
   "metadata": {},
   "source": [
    "________________________________________________________________________________________________________________________\n",
    "\n",
    "\n",
    "* Yuvraj Sutar \n",
    "* yuvrajsutar009@gmail.com\n",
    "_ _________________________________________________________________________________________________________________________\n",
    "_  _________________________________________________________________________________________________________________________\n"
   ]
  },
  {
   "cell_type": "code",
   "execution_count": 16,
   "id": "e7eaedd1",
   "metadata": {},
   "outputs": [
    {
     "name": "stdout",
     "output_type": "stream",
     "text": [
      "yuvraj\n"
     ]
    }
   ],
   "source": [
    "x =\"yuvraj\"\n",
    "print(x)"
   ]
  },
  {
   "cell_type": "code",
   "execution_count": 17,
   "id": "93ff73f6",
   "metadata": {},
   "outputs": [
    {
     "name": "stdout",
     "output_type": "stream",
     "text": [
      "5\n"
     ]
    }
   ],
   "source": [
    "y=5\n",
    "print(y)"
   ]
  },
  {
   "cell_type": "code",
   "execution_count": 18,
   "id": "912a8203",
   "metadata": {},
   "outputs": [],
   "source": [
    "#This is a comment"
   ]
  },
  {
   "cell_type": "code",
   "execution_count": 19,
   "id": "18bdef21",
   "metadata": {},
   "outputs": [],
   "source": [
    "x = 3\n",
    "y = \"Raj\""
   ]
  },
  {
   "cell_type": "code",
   "execution_count": 20,
   "id": "292d229f",
   "metadata": {},
   "outputs": [
    {
     "name": "stdout",
     "output_type": "stream",
     "text": [
      "3 Raj\n"
     ]
    }
   ],
   "source": [
    "print(x,y)"
   ]
  },
  {
   "cell_type": "markdown",
   "id": "43318996",
   "metadata": {},
   "source": [
    "data type "
   ]
  },
  {
   "cell_type": "code",
   "execution_count": 10,
   "id": "c34c03f8",
   "metadata": {},
   "outputs": [],
   "source": [
    "\n",
    "\n",
    "x = str(10)    \n",
    "y = int(10)    \n",
    "z = float(10)  \n"
   ]
  },
  {
   "cell_type": "code",
   "execution_count": 11,
   "id": "a74f7333",
   "metadata": {},
   "outputs": [
    {
     "data": {
      "text/plain": [
       "('10', 10, 10.0)"
      ]
     },
     "execution_count": 11,
     "metadata": {},
     "output_type": "execute_result"
    }
   ],
   "source": [
    "x,y,z\n"
   ]
  },
  {
   "cell_type": "markdown",
   "id": "dec2af7e",
   "metadata": {},
   "source": [
    "Variable Names............ "
   ]
  },
  {
   "cell_type": "code",
   "execution_count": 13,
   "id": "6a5f898d",
   "metadata": {},
   "outputs": [],
   "source": [
    "MyName=\"yuvraj\""
   ]
  },
  {
   "cell_type": "code",
   "execution_count": 14,
   "id": "451d9d0c",
   "metadata": {},
   "outputs": [
    {
     "data": {
      "text/plain": [
       "'yuvraj'"
      ]
     },
     "execution_count": 14,
     "metadata": {},
     "output_type": "execute_result"
    }
   ],
   "source": [
    "MyName"
   ]
  },
  {
   "cell_type": "code",
   "execution_count": 15,
   "id": "e49d7eb6",
   "metadata": {},
   "outputs": [],
   "source": [
    "MyName=\"Raj\""
   ]
  },
  {
   "cell_type": "code",
   "execution_count": 16,
   "id": "3eaac90a",
   "metadata": {},
   "outputs": [
    {
     "data": {
      "text/plain": [
       "'Raj'"
      ]
     },
     "execution_count": 16,
     "metadata": {},
     "output_type": "execute_result"
    }
   ],
   "source": [
    "MyName"
   ]
  },
  {
   "cell_type": "code",
   "execution_count": 17,
   "id": "082c81be",
   "metadata": {},
   "outputs": [],
   "source": [
    "myname=\"omkar\""
   ]
  },
  {
   "cell_type": "code",
   "execution_count": 18,
   "id": "649c50a0",
   "metadata": {},
   "outputs": [
    {
     "data": {
      "text/plain": [
       "'omkar'"
      ]
     },
     "execution_count": 18,
     "metadata": {},
     "output_type": "execute_result"
    }
   ],
   "source": [
    "myname"
   ]
  },
  {
   "cell_type": "code",
   "execution_count": 2,
   "id": "513334a0",
   "metadata": {},
   "outputs": [],
   "source": [
    "MYNAME=\"Rahul\""
   ]
  },
  {
   "cell_type": "code",
   "execution_count": 20,
   "id": "b2c38aee",
   "metadata": {},
   "outputs": [
    {
     "data": {
      "text/plain": [
       "'Rahul'"
      ]
     },
     "execution_count": 20,
     "metadata": {},
     "output_type": "execute_result"
    }
   ],
   "source": [
    "MYNAME"
   ]
  },
  {
   "cell_type": "code",
   "execution_count": 21,
   "id": "00fbbe57",
   "metadata": {},
   "outputs": [],
   "source": [
    "Myname123=\"mosim\""
   ]
  },
  {
   "cell_type": "code",
   "execution_count": 22,
   "id": "31de6f52",
   "metadata": {},
   "outputs": [
    {
     "data": {
      "text/plain": [
       "'mosim'"
      ]
     },
     "execution_count": 22,
     "metadata": {},
     "output_type": "execute_result"
    }
   ],
   "source": [
    "Myname123"
   ]
  },
  {
   "cell_type": "markdown",
   "id": "847fadc0",
   "metadata": {},
   "source": [
    "Many Values to Multiple Variables\n",
    "\n",
    "\n"
   ]
  },
  {
   "cell_type": "code",
   "execution_count": 24,
   "id": "0fd2d98c",
   "metadata": {},
   "outputs": [
    {
     "data": {
      "text/plain": [
       "('Apple', 'mango', 'Cherry')"
      ]
     },
     "execution_count": 24,
     "metadata": {},
     "output_type": "execute_result"
    }
   ],
   "source": [
    "\n",
    "x, y, z = \"Apple\", \"mango\", \"Cherry\"\n",
    "x,y,z\n"
   ]
  },
  {
   "cell_type": "code",
   "execution_count": 25,
   "id": "dbc255fc",
   "metadata": {},
   "outputs": [
    {
     "data": {
      "text/plain": [
       "'data science'"
      ]
     },
     "execution_count": 25,
     "metadata": {},
     "output_type": "execute_result"
    }
   ],
   "source": [
    "x = \"data science\"\n",
    "x\n",
    "\n"
   ]
  },
  {
   "cell_type": "markdown",
   "id": "24c58034",
   "metadata": {},
   "source": [
    "Built-in Data Types\n"
   ]
  },
  {
   "cell_type": "code",
   "execution_count": 21,
   "id": "0bf47314",
   "metadata": {},
   "outputs": [
    {
     "data": {
      "text/plain": [
       "30"
      ]
     },
     "execution_count": 21,
     "metadata": {},
     "output_type": "execute_result"
    }
   ],
   "source": [
    "x=20+10\n",
    "x"
   ]
  },
  {
   "cell_type": "code",
   "execution_count": 9,
   "id": "07f29b92",
   "metadata": {},
   "outputs": [
    {
     "data": {
      "text/plain": [
       "6"
      ]
     },
     "execution_count": 9,
     "metadata": {},
     "output_type": "execute_result"
    }
   ],
   "source": [
    "20//3"
   ]
  },
  {
   "cell_type": "markdown",
   "id": "cc5d9784",
   "metadata": {},
   "source": [
    "Assignment operator \n"
   ]
  },
  {
   "cell_type": "code",
   "execution_count": 24,
   "id": "1098c33d",
   "metadata": {},
   "outputs": [
    {
     "data": {
      "text/plain": [
       "0.8"
      ]
     },
     "execution_count": 24,
     "metadata": {},
     "output_type": "execute_result"
    }
   ],
   "source": [
    "a=8\n",
    "a/=10\n",
    "a"
   ]
  },
  {
   "cell_type": "code",
   "execution_count": 25,
   "id": "314a52a6",
   "metadata": {},
   "outputs": [
    {
     "data": {
      "text/plain": [
       "100000000000000000000"
      ]
     },
     "execution_count": 25,
     "metadata": {},
     "output_type": "execute_result"
    }
   ],
   "source": [
    "a=10\n",
    "b=20\n",
    "a//b\n",
    "a**b"
   ]
  },
  {
   "cell_type": "code",
   "execution_count": 26,
   "id": "8b6893c9",
   "metadata": {},
   "outputs": [
    {
     "data": {
      "text/plain": [
       "2"
      ]
     },
     "execution_count": 26,
     "metadata": {},
     "output_type": "execute_result"
    }
   ],
   "source": [
    "a=6\n",
    "b=14\n",
    "b%a"
   ]
  },
  {
   "cell_type": "code",
   "execution_count": 27,
   "id": "42fc5153",
   "metadata": {},
   "outputs": [
    {
     "data": {
      "text/plain": [
       "11"
      ]
     },
     "execution_count": 27,
     "metadata": {},
     "output_type": "execute_result"
    }
   ],
   "source": [
    "a=a+5\n",
    "a"
   ]
  },
  {
   "cell_type": "code",
   "execution_count": 21,
   "id": "e09a71df",
   "metadata": {},
   "outputs": [
    {
     "data": {
      "text/plain": [
       "26"
      ]
     },
     "execution_count": 21,
     "metadata": {},
     "output_type": "execute_result"
    }
   ],
   "source": [
    "a+5"
   ]
  },
  {
   "cell_type": "markdown",
   "id": "ca75ceb9",
   "metadata": {},
   "source": [
    "comparison opertors\n"
   ]
  },
  {
   "cell_type": "code",
   "execution_count": 30,
   "id": "16811ec2",
   "metadata": {},
   "outputs": [
    {
     "data": {
      "text/plain": [
       "False"
      ]
     },
     "execution_count": 30,
     "metadata": {},
     "output_type": "execute_result"
    }
   ],
   "source": [
    "9>10"
   ]
  },
  {
   "cell_type": "code",
   "execution_count": 31,
   "id": "0d180d37",
   "metadata": {},
   "outputs": [
    {
     "data": {
      "text/plain": [
       "True"
      ]
     },
     "execution_count": 31,
     "metadata": {},
     "output_type": "execute_result"
    }
   ],
   "source": [
    "5<=8"
   ]
  },
  {
   "cell_type": "code",
   "execution_count": 32,
   "id": "4c76e23d",
   "metadata": {},
   "outputs": [
    {
     "data": {
      "text/plain": [
       "False"
      ]
     },
     "execution_count": 32,
     "metadata": {},
     "output_type": "execute_result"
    }
   ],
   "source": [
    "5==6"
   ]
  },
  {
   "cell_type": "code",
   "execution_count": 33,
   "id": "08e435f0",
   "metadata": {},
   "outputs": [
    {
     "data": {
      "text/plain": [
       "True"
      ]
     },
     "execution_count": 33,
     "metadata": {},
     "output_type": "execute_result"
    }
   ],
   "source": [
    "9==9"
   ]
  },
  {
   "cell_type": "code",
   "execution_count": 34,
   "id": "3a29bba0",
   "metadata": {},
   "outputs": [
    {
     "data": {
      "text/plain": [
       "False"
      ]
     },
     "execution_count": 34,
     "metadata": {},
     "output_type": "execute_result"
    }
   ],
   "source": [
    "x=3\n",
    "not(x <5 != x <10)#..........................................................."
   ]
  },
  {
   "cell_type": "code",
   "execution_count": 35,
   "id": "3f2afe34",
   "metadata": {},
   "outputs": [
    {
     "data": {
      "text/plain": [
       "False"
      ]
     },
     "execution_count": 35,
     "metadata": {},
     "output_type": "execute_result"
    }
   ],
   "source": [
    "x=3\n",
    "not(x <5,x <10)"
   ]
  },
  {
   "cell_type": "code",
   "execution_count": 36,
   "id": "167c424b",
   "metadata": {},
   "outputs": [
    {
     "data": {
      "text/plain": [
       "True"
      ]
     },
     "execution_count": 36,
     "metadata": {},
     "output_type": "execute_result"
    }
   ],
   "source": [
    "x=3\n",
    "(x <5 != x <10)\n"
   ]
  },
  {
   "cell_type": "code",
   "execution_count": 34,
   "id": "0a814186",
   "metadata": {},
   "outputs": [
    {
     "data": {
      "text/plain": [
       "False"
      ]
     },
     "execution_count": 34,
     "metadata": {},
     "output_type": "execute_result"
    }
   ],
   "source": [
    "(x < 3) and (not x < 10)"
   ]
  },
  {
   "cell_type": "code",
   "execution_count": 14,
   "id": "9bc631cc",
   "metadata": {},
   "outputs": [],
   "source": [
    "x=8"
   ]
  },
  {
   "cell_type": "markdown",
   "id": "3cd8c6a8",
   "metadata": {},
   "source": [
    "arithmetic operators"
   ]
  },
  {
   "cell_type": "code",
   "execution_count": 39,
   "id": "80c53baa",
   "metadata": {},
   "outputs": [
    {
     "data": {
      "text/plain": [
       "1"
      ]
     },
     "execution_count": 39,
     "metadata": {},
     "output_type": "execute_result"
    }
   ],
   "source": [
    "a=10\n",
    "b=20\n",
    "a%3"
   ]
  },
  {
   "cell_type": "code",
   "execution_count": 40,
   "id": "cfa7057c",
   "metadata": {},
   "outputs": [
    {
     "name": "stdout",
     "output_type": "stream",
     "text": [
      "25\n"
     ]
    }
   ],
   "source": [
    "print(5**2) #5*5"
   ]
  },
  {
   "cell_type": "code",
   "execution_count": 41,
   "id": "79898176",
   "metadata": {},
   "outputs": [
    {
     "name": "stdout",
     "output_type": "stream",
     "text": [
      "125\n"
     ]
    }
   ],
   "source": [
    "print(5**3) #5*5*5"
   ]
  },
  {
   "cell_type": "code",
   "execution_count": 42,
   "id": "540ee804",
   "metadata": {},
   "outputs": [
    {
     "data": {
      "text/plain": [
       "3"
      ]
     },
     "execution_count": 42,
     "metadata": {},
     "output_type": "execute_result"
    }
   ],
   "source": [
    "10//3 #floor division\n"
   ]
  },
  {
   "cell_type": "markdown",
   "id": "f3659fd5",
   "metadata": {},
   "source": [
    " assignment operators / increment or decrement operators \n",
    " =, +=, -="
   ]
  },
  {
   "cell_type": "code",
   "execution_count": 17,
   "id": "1d6fcc9b",
   "metadata": {},
   "outputs": [
    {
     "name": "stdout",
     "output_type": "stream",
     "text": [
      "5\n"
     ]
    }
   ],
   "source": [
    "x=5\n",
    "print(x)"
   ]
  },
  {
   "cell_type": "code",
   "execution_count": 24,
   "id": "f2cb0d24",
   "metadata": {},
   "outputs": [],
   "source": [
    "x=x+5"
   ]
  },
  {
   "cell_type": "code",
   "execution_count": 25,
   "id": "f9747c47",
   "metadata": {},
   "outputs": [
    {
     "data": {
      "text/plain": [
       "10"
      ]
     },
     "execution_count": 25,
     "metadata": {},
     "output_type": "execute_result"
    }
   ],
   "source": [
    "x"
   ]
  },
  {
   "cell_type": "code",
   "execution_count": 26,
   "id": "aa729da4",
   "metadata": {},
   "outputs": [],
   "source": [
    "x=x-5"
   ]
  },
  {
   "cell_type": "code",
   "execution_count": 27,
   "id": "f45d1e51",
   "metadata": {},
   "outputs": [
    {
     "data": {
      "text/plain": [
       "5"
      ]
     },
     "execution_count": 27,
     "metadata": {},
     "output_type": "execute_result"
    }
   ],
   "source": [
    "x"
   ]
  },
  {
   "cell_type": "markdown",
   "id": "04723547",
   "metadata": {},
   "source": [
    "comparison operators"
   ]
  },
  {
   "cell_type": "markdown",
   "id": "b60f068a",
   "metadata": {},
   "source": [
    "== equal\n",
    "!=  not equal\n",
    ">   grater than\n",
    "<   less then\n",
    ">=  greater than or equal to\n",
    "<=  less than or equal to "
   ]
  },
  {
   "cell_type": "code",
   "execution_count": 34,
   "id": "c76c9187",
   "metadata": {},
   "outputs": [],
   "source": [
    "x=10\n",
    "y=30"
   ]
  },
  {
   "cell_type": "code",
   "execution_count": 36,
   "id": "21d88c69",
   "metadata": {},
   "outputs": [
    {
     "name": "stdout",
     "output_type": "stream",
     "text": [
      "False\n"
     ]
    }
   ],
   "source": [
    "print(x==y) # equal"
   ]
  },
  {
   "cell_type": "code",
   "execution_count": 35,
   "id": "1cfb5da6",
   "metadata": {},
   "outputs": [
    {
     "data": {
      "text/plain": [
       "True"
      ]
     },
     "execution_count": 35,
     "metadata": {},
     "output_type": "execute_result"
    }
   ],
   "source": [
    "x!=y  # not equal"
   ]
  },
  {
   "cell_type": "code",
   "execution_count": 37,
   "id": "294e2ba3",
   "metadata": {},
   "outputs": [
    {
     "data": {
      "text/plain": [
       "False"
      ]
     },
     "execution_count": 37,
     "metadata": {},
     "output_type": "execute_result"
    }
   ],
   "source": [
    "x>y # grater than"
   ]
  },
  {
   "cell_type": "code",
   "execution_count": 38,
   "id": "a9744b92",
   "metadata": {},
   "outputs": [
    {
     "data": {
      "text/plain": [
       "True"
      ]
     },
     "execution_count": 38,
     "metadata": {},
     "output_type": "execute_result"
    }
   ],
   "source": [
    "x<y  #less then"
   ]
  },
  {
   "cell_type": "code",
   "execution_count": 44,
   "id": "2d56269b",
   "metadata": {},
   "outputs": [
    {
     "data": {
      "text/plain": [
       "False"
      ]
     },
     "execution_count": 44,
     "metadata": {},
     "output_type": "execute_result"
    }
   ],
   "source": [
    "x>=y #greater than or equal to\n"
   ]
  },
  {
   "cell_type": "code",
   "execution_count": 45,
   "id": "bef446d5",
   "metadata": {},
   "outputs": [
    {
     "data": {
      "text/plain": [
       "True"
      ]
     },
     "execution_count": 45,
     "metadata": {},
     "output_type": "execute_result"
    }
   ],
   "source": [
    "x<=y #less than or equal to "
   ]
  },
  {
   "cell_type": "code",
   "execution_count": 43,
   "id": "6b7444ce",
   "metadata": {},
   "outputs": [],
   "source": [
    "#Logical operators.\n",
    "#and  return true oof bouth statement are true.\n",
    "#or  return if one of the statement is true .\n",
    "#not reverse the result false if the result is true ."
   ]
  },
  {
   "cell_type": "code",
   "execution_count": 44,
   "id": "e181aaf9",
   "metadata": {},
   "outputs": [],
   "source": [
    "x=10\n",
    "y=20\n",
    "\n"
   ]
  },
  {
   "cell_type": "code",
   "execution_count": 45,
   "id": "92703869",
   "metadata": {},
   "outputs": [
    {
     "name": "stdout",
     "output_type": "stream",
     "text": [
      "False\n"
     ]
    }
   ],
   "source": [
    "print(x==10 and x<y and x==y) # and "
   ]
  },
  {
   "cell_type": "code",
   "execution_count": 46,
   "id": "9167e45c",
   "metadata": {},
   "outputs": [
    {
     "name": "stdout",
     "output_type": "stream",
     "text": [
      "True\n"
     ]
    }
   ],
   "source": [
    "print(x==10 or x<y or x==y) # or"
   ]
  },
  {
   "cell_type": "code",
   "execution_count": 47,
   "id": "71b9704b",
   "metadata": {},
   "outputs": [
    {
     "name": "stdout",
     "output_type": "stream",
     "text": [
      "True\n"
     ]
    }
   ],
   "source": [
    "print(not x!=10)"
   ]
  },
  {
   "cell_type": "code",
   "execution_count": 48,
   "id": "0b92db44",
   "metadata": {},
   "outputs": [],
   "source": [
    "# membership operators "
   ]
  },
  {
   "cell_type": "code",
   "execution_count": 49,
   "id": "c0ff114b",
   "metadata": {},
   "outputs": [
    {
     "name": "stdout",
     "output_type": "stream",
     "text": [
      "True\n"
     ]
    }
   ],
   "source": [
    "string1=\"hello\"   \n",
    "print('h'in string1)  # in mmembership operator."
   ]
  },
  {
   "cell_type": "code",
   "execution_count": 50,
   "id": "3e328a60",
   "metadata": {},
   "outputs": [
    {
     "name": "stdout",
     "output_type": "stream",
     "text": [
      "True\n"
     ]
    }
   ],
   "source": [
    "T=[10,20,30,40,50]\n",
    "print('50'not in T) #not membership oprators."
   ]
  },
  {
   "cell_type": "code",
   "execution_count": null,
   "id": "75d13867",
   "metadata": {},
   "outputs": [],
   "source": [
    "# indntify operators\n",
    "# is rreturns true if bouth variables are the some object.\n",
    "# is not returns true if both variables are not same object.\n"
   ]
  },
  {
   "cell_type": "markdown",
   "id": "fe0ce8a6",
   "metadata": {},
   "source": [
    "1.is - returns True if both variables refer to the same object in memory."
   ]
  },
  {
   "cell_type": "code",
   "execution_count": 52,
   "id": "bd666d77",
   "metadata": {},
   "outputs": [
    {
     "data": {
      "text/plain": [
       "True"
      ]
     },
     "execution_count": 52,
     "metadata": {},
     "output_type": "execute_result"
    }
   ],
   "source": [
    "a = [1, 2, 3]\n",
    "b = a\n",
    "a is b\n",
    "\n"
   ]
  },
  {
   "cell_type": "markdown",
   "id": "fc1193db",
   "metadata": {},
   "source": [
    "2.is not - returns True if both variables refer to different objects in memory."
   ]
  },
  {
   "cell_type": "code",
   "execution_count": 53,
   "id": "2b5ca0c3",
   "metadata": {},
   "outputs": [
    {
     "data": {
      "text/plain": [
       "True"
      ]
     },
     "execution_count": 53,
     "metadata": {},
     "output_type": "execute_result"
    }
   ],
   "source": [
    "a = [1, 2, 3]\n",
    "b = [1, 2, 3]\n",
    "a is not b\n",
    "\n"
   ]
  },
  {
   "cell_type": "markdown",
   "id": "98d44bdd",
   "metadata": {},
   "source": [
    "________________________________________________________________________________________________________________________\n",
    "\n",
    "\n",
    "* Yuvraj Sutar \n",
    "* yuvrajsutar009@gmail.com\n",
    "_ _________________________________________________________________________________________________________________________\n",
    "_  _________________________________________________________________________________________________________________________\n"
   ]
  }
 ],
 "metadata": {
  "kernelspec": {
   "display_name": "Python 3 (ipykernel)",
   "language": "python",
   "name": "python3"
  },
  "language_info": {
   "codemirror_mode": {
    "name": "ipython",
    "version": 3
   },
   "file_extension": ".py",
   "mimetype": "text/x-python",
   "name": "python",
   "nbconvert_exporter": "python",
   "pygments_lexer": "ipython3",
   "version": "3.9.7"
  }
 },
 "nbformat": 4,
 "nbformat_minor": 5
}
