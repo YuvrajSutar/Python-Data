{
 "cells": [
  {
   "cell_type": "markdown",
   "id": "b86312c0",
   "metadata": {},
   "source": [
    "________________________________________________________________________________________________________________________\n",
    "\n",
    "\n",
    "* Yuvraj Sutar \n",
    "* yuvrajsutar009@gmail.com\n",
    "_ _________________________________________________________________________________________________________________________\n",
    "_  _________________________________________________________________________________________________________________________\n"
   ]
  },
  {
   "cell_type": "markdown",
   "id": "77389059",
   "metadata": {},
   "source": [
    "# Numpy"
   ]
  },
  {
   "cell_type": "code",
   "execution_count": 1,
   "id": "14a82783",
   "metadata": {},
   "outputs": [],
   "source": [
    "import numpy as np \n"
   ]
  },
  {
   "cell_type": "code",
   "execution_count": 2,
   "id": "e8c7e43e",
   "metadata": {},
   "outputs": [
    {
     "data": {
      "text/plain": [
       "(6,)"
      ]
     },
     "execution_count": 2,
     "metadata": {},
     "output_type": "execute_result"
    }
   ],
   "source": [
    "#one dimension \n",
    "array = np.array([2,2,3,4,5,4]) \n",
    "array.shape"
   ]
  },
  {
   "cell_type": "code",
   "execution_count": 86,
   "id": "4899f2a3",
   "metadata": {},
   "outputs": [
    {
     "data": {
      "text/plain": [
       "[1, 2, 3]"
      ]
     },
     "execution_count": 86,
     "metadata": {},
     "output_type": "execute_result"
    }
   ],
   "source": [
    "m_list = [1,2,3]\n",
    "m_list"
   ]
  },
  {
   "cell_type": "code",
   "execution_count": 87,
   "id": "7c406161",
   "metadata": {},
   "outputs": [],
   "source": [
    "#one or more dimensions \n",
    "m_matrix =[[4,4,3],[2,7,6],[8,0,9]]"
   ]
  },
  {
   "cell_type": "code",
   "execution_count": 88,
   "id": "320272fa",
   "metadata": {},
   "outputs": [
    {
     "data": {
      "text/plain": [
       "[[4, 4, 3], [2, 7, 6], [8, 0, 9]]"
      ]
     },
     "execution_count": 88,
     "metadata": {},
     "output_type": "execute_result"
    }
   ],
   "source": [
    "m_matrix"
   ]
  },
  {
   "cell_type": "code",
   "execution_count": 89,
   "id": "e750608b",
   "metadata": {},
   "outputs": [
    {
     "data": {
      "text/plain": [
       "array([[4, 4, 3],\n",
       "       [2, 7, 6],\n",
       "       [8, 0, 9]])"
      ]
     },
     "execution_count": 89,
     "metadata": {},
     "output_type": "execute_result"
    }
   ],
   "source": [
    "matrix=np.array(m_matrix)\n",
    "matrix"
   ]
  },
  {
   "cell_type": "code",
   "execution_count": 90,
   "id": "b70ec421",
   "metadata": {},
   "outputs": [],
   "source": [
    "#shape"
   ]
  },
  {
   "cell_type": "code",
   "execution_count": 91,
   "id": "0f2144da",
   "metadata": {},
   "outputs": [
    {
     "data": {
      "text/plain": [
       "(3, 3)"
      ]
     },
     "execution_count": 91,
     "metadata": {},
     "output_type": "execute_result"
    }
   ],
   "source": [
    "matrix.shape"
   ]
  },
  {
   "cell_type": "code",
   "execution_count": 92,
   "id": "9be5e098",
   "metadata": {},
   "outputs": [
    {
     "data": {
      "text/plain": [
       "array([2, 5, 8])"
      ]
     },
     "execution_count": 92,
     "metadata": {},
     "output_type": "execute_result"
    }
   ],
   "source": [
    "np.arange(2,10,3)"
   ]
  },
  {
   "cell_type": "code",
   "execution_count": 93,
   "id": "1f58986c",
   "metadata": {},
   "outputs": [
    {
     "data": {
      "text/plain": [
       "array([0, 4, 8])"
      ]
     },
     "execution_count": 93,
     "metadata": {},
     "output_type": "execute_result"
    }
   ],
   "source": [
    "np.arange(0,11,4)"
   ]
  },
  {
   "cell_type": "code",
   "execution_count": 94,
   "id": "9d5851a4",
   "metadata": {},
   "outputs": [],
   "source": [
    "#zeros and ones "
   ]
  },
  {
   "cell_type": "code",
   "execution_count": 95,
   "id": "c7e5bf96",
   "metadata": {},
   "outputs": [
    {
     "data": {
      "text/plain": [
       "array([0., 0., 0., 0., 0., 0., 0., 0., 0., 0., 0., 0., 0., 0., 0., 0., 0.,\n",
       "       0., 0., 0., 0., 0., 0., 0., 0., 0., 0., 0., 0., 0., 0., 0., 0., 0.,\n",
       "       0., 0., 0., 0., 0., 0., 0., 0., 0., 0., 0., 0., 0., 0., 0., 0., 0.,\n",
       "       0., 0., 0., 0., 0., 0., 0., 0., 0., 0., 0., 0., 0., 0., 0., 0., 0.,\n",
       "       0., 0., 0., 0., 0., 0., 0., 0., 0., 0., 0., 0., 0., 0., 0., 0., 0.,\n",
       "       0., 0., 0., 0., 0., 0., 0., 0., 0., 0., 0., 0., 0., 0., 0.])"
      ]
     },
     "execution_count": 95,
     "metadata": {},
     "output_type": "execute_result"
    }
   ],
   "source": [
    "np.zeros(100)"
   ]
  },
  {
   "cell_type": "code",
   "execution_count": 96,
   "id": "65293493",
   "metadata": {},
   "outputs": [
    {
     "data": {
      "text/plain": [
       "array([[0., 0., 0., 0., 0., 0., 0., 0., 0., 0.],\n",
       "       [0., 0., 0., 0., 0., 0., 0., 0., 0., 0.],\n",
       "       [0., 0., 0., 0., 0., 0., 0., 0., 0., 0.],\n",
       "       [0., 0., 0., 0., 0., 0., 0., 0., 0., 0.],\n",
       "       [0., 0., 0., 0., 0., 0., 0., 0., 0., 0.],\n",
       "       [0., 0., 0., 0., 0., 0., 0., 0., 0., 0.],\n",
       "       [0., 0., 0., 0., 0., 0., 0., 0., 0., 0.],\n",
       "       [0., 0., 0., 0., 0., 0., 0., 0., 0., 0.],\n",
       "       [0., 0., 0., 0., 0., 0., 0., 0., 0., 0.],\n",
       "       [0., 0., 0., 0., 0., 0., 0., 0., 0., 0.]])"
      ]
     },
     "execution_count": 96,
     "metadata": {},
     "output_type": "execute_result"
    }
   ],
   "source": [
    "np.zeros((10,10))"
   ]
  },
  {
   "cell_type": "code",
   "execution_count": 99,
   "id": "6be7f0f7",
   "metadata": {},
   "outputs": [
    {
     "data": {
      "text/plain": [
       "array([1., 1., 1., 1., 1., 1., 1., 1.])"
      ]
     },
     "execution_count": 99,
     "metadata": {},
     "output_type": "execute_result"
    }
   ],
   "source": [
    "np.ones(8)"
   ]
  },
  {
   "cell_type": "code",
   "execution_count": 98,
   "id": "0e7572eb",
   "metadata": {},
   "outputs": [
    {
     "data": {
      "text/plain": [
       "array([[1., 1., 1., 1., 1., 1., 1., 1., 1., 1.],\n",
       "       [1., 1., 1., 1., 1., 1., 1., 1., 1., 1.],\n",
       "       [1., 1., 1., 1., 1., 1., 1., 1., 1., 1.],\n",
       "       [1., 1., 1., 1., 1., 1., 1., 1., 1., 1.],\n",
       "       [1., 1., 1., 1., 1., 1., 1., 1., 1., 1.],\n",
       "       [1., 1., 1., 1., 1., 1., 1., 1., 1., 1.],\n",
       "       [1., 1., 1., 1., 1., 1., 1., 1., 1., 1.],\n",
       "       [1., 1., 1., 1., 1., 1., 1., 1., 1., 1.],\n",
       "       [1., 1., 1., 1., 1., 1., 1., 1., 1., 1.],\n",
       "       [1., 1., 1., 1., 1., 1., 1., 1., 1., 1.]])"
      ]
     },
     "execution_count": 98,
     "metadata": {},
     "output_type": "execute_result"
    }
   ],
   "source": [
    "np.ones((10,10))"
   ]
  },
  {
   "cell_type": "code",
   "execution_count": 16,
   "id": "e6b47dd1",
   "metadata": {},
   "outputs": [],
   "source": [
    "#linespace\n"
   ]
  },
  {
   "cell_type": "code",
   "execution_count": 17,
   "id": "45cbb466",
   "metadata": {},
   "outputs": [
    {
     "data": {
      "text/plain": [
       "array([   1.,  112.,  223.,  334.,  445.,  556.,  667.,  778.,  889.,\n",
       "       1000.])"
      ]
     },
     "execution_count": 17,
     "metadata": {},
     "output_type": "execute_result"
    }
   ],
   "source": [
    "np.linspace(1,1000,10) # one to 1000 in 10 values "
   ]
  },
  {
   "cell_type": "code",
   "execution_count": 18,
   "id": "1d52bbe5",
   "metadata": {},
   "outputs": [
    {
     "data": {
      "text/plain": [
       "array([ 0.,  5., 10.])"
      ]
     },
     "execution_count": 18,
     "metadata": {},
     "output_type": "execute_result"
    }
   ],
   "source": [
    "np.linspace(0,10,3) # zero to 10 in 3 value's "
   ]
  },
  {
   "cell_type": "code",
   "execution_count": 19,
   "id": "93b2464e",
   "metadata": {},
   "outputs": [],
   "source": [
    "# random values"
   ]
  },
  {
   "cell_type": "code",
   "execution_count": 108,
   "id": "e3ded61a",
   "metadata": {},
   "outputs": [],
   "source": [
    "a=np.random.rand(1,10,10) #uniform  "
   ]
  },
  {
   "cell_type": "code",
   "execution_count": 109,
   "id": "d7164194",
   "metadata": {},
   "outputs": [
    {
     "data": {
      "text/plain": [
       "array([[[0.35441313, 0.34984478, 0.51077303, 0.20216301, 0.37888226,\n",
       "         0.27653171, 0.25650182, 0.92585437, 0.45944821, 0.45795305],\n",
       "        [0.74474085, 0.68904153, 0.02945527, 0.1171348 , 0.71476314,\n",
       "         0.01075658, 0.18048979, 0.66296652, 0.45536611, 0.6478739 ],\n",
       "        [0.13410892, 0.82815413, 0.35200563, 0.48845618, 0.42006838,\n",
       "         0.36621652, 0.79526064, 0.32617352, 0.72334902, 0.54716372],\n",
       "        [0.76844923, 0.80541097, 0.49292428, 0.78468823, 0.51698465,\n",
       "         0.85589802, 0.94596788, 0.64373983, 0.21757073, 0.38435313],\n",
       "        [0.95284302, 0.91783941, 0.36374664, 0.71048871, 0.91839546,\n",
       "         0.68257163, 0.41460038, 0.67325472, 0.34170185, 0.54966049],\n",
       "        [0.84850739, 0.53876958, 0.55818313, 0.98705069, 0.68013692,\n",
       "         0.47084319, 0.29796844, 0.48325252, 0.38426186, 0.04921218],\n",
       "        [0.70410301, 0.43700941, 0.44911268, 0.03207601, 0.23397982,\n",
       "         0.98166011, 0.59546813, 0.73998366, 0.92934656, 0.09302961],\n",
       "        [0.35521565, 0.39887858, 0.85597308, 0.96926689, 0.96657531,\n",
       "         0.26678943, 0.14475619, 0.63455996, 0.23200425, 0.68887683],\n",
       "        [0.02538637, 0.48040546, 0.09531657, 0.35031766, 0.83330919,\n",
       "         0.95258599, 0.52642621, 0.38593647, 0.45791677, 0.73948045],\n",
       "        [0.26670344, 0.91432829, 0.26813693, 0.77471177, 0.71881708,\n",
       "         0.22838468, 0.41081204, 0.31588714, 0.38487467, 0.50828663]]])"
      ]
     },
     "execution_count": 109,
     "metadata": {},
     "output_type": "execute_result"
    }
   ],
   "source": [
    "a"
   ]
  },
  {
   "cell_type": "code",
   "execution_count": 110,
   "id": "9a2754c5",
   "metadata": {},
   "outputs": [
    {
     "data": {
      "text/plain": [
       "(1, 10, 10)"
      ]
     },
     "execution_count": 110,
     "metadata": {},
     "output_type": "execute_result"
    }
   ],
   "source": [
    "a.shape"
   ]
  },
  {
   "cell_type": "code",
   "execution_count": null,
   "id": "753e0742",
   "metadata": {},
   "outputs": [],
   "source": []
  },
  {
   "cell_type": "code",
   "execution_count": 103,
   "id": "23eec2a9",
   "metadata": {},
   "outputs": [
    {
     "data": {
      "text/plain": [
       "(6,)"
      ]
     },
     "execution_count": 103,
     "metadata": {},
     "output_type": "execute_result"
    }
   ],
   "source": [
    "array.shape # shape of the matrix "
   ]
  },
  {
   "cell_type": "code",
   "execution_count": 111,
   "id": "ed45a6e7",
   "metadata": {},
   "outputs": [],
   "source": [
    " b=np.random.randn(3) # n- standard deviation \n"
   ]
  },
  {
   "cell_type": "code",
   "execution_count": 112,
   "id": "eb4ebb54",
   "metadata": {},
   "outputs": [
    {
     "data": {
      "text/plain": [
       "array([-0.92779107,  0.03366695,  1.06566032])"
      ]
     },
     "execution_count": 112,
     "metadata": {},
     "output_type": "execute_result"
    }
   ],
   "source": [
    "b"
   ]
  },
  {
   "cell_type": "code",
   "execution_count": null,
   "id": "22b33c20",
   "metadata": {},
   "outputs": [],
   "source": []
  },
  {
   "cell_type": "code",
   "execution_count": 23,
   "id": "a7492506",
   "metadata": {},
   "outputs": [
    {
     "data": {
      "text/plain": [
       "(4, 4)"
      ]
     },
     "execution_count": 23,
     "metadata": {},
     "output_type": "execute_result"
    }
   ],
   "source": [
    "np.random.randn(4,4).shape \n"
   ]
  },
  {
   "cell_type": "code",
   "execution_count": 24,
   "id": "0487c280",
   "metadata": {},
   "outputs": [],
   "source": [
    "#randint\n"
   ]
  },
  {
   "cell_type": "code",
   "execution_count": 113,
   "id": "7cd89238",
   "metadata": {},
   "outputs": [
    {
     "data": {
      "text/plain": [
       "6"
      ]
     },
     "execution_count": 113,
     "metadata": {},
     "output_type": "execute_result"
    }
   ],
   "source": [
    "np.random.randint(1,30) #return a random integer between 1 and 30"
   ]
  },
  {
   "cell_type": "code",
   "execution_count": 114,
   "id": "eac6c433",
   "metadata": {},
   "outputs": [
    {
     "data": {
      "text/plain": [
       "array([150, 173, 104, 177, 133])"
      ]
     },
     "execution_count": 114,
     "metadata": {},
     "output_type": "execute_result"
    }
   ],
   "source": [
    "np.random.randint(1,200,5) #generates 10 random integers between 1 and 200"
   ]
  },
  {
   "cell_type": "code",
   "execution_count": 27,
   "id": "81fb82b1",
   "metadata": {},
   "outputs": [],
   "source": [
    "# array attributes \n"
   ]
  },
  {
   "cell_type": "code",
   "execution_count": 28,
   "id": "bab2237c",
   "metadata": {},
   "outputs": [],
   "source": [
    "import numpy as np "
   ]
  },
  {
   "cell_type": "code",
   "execution_count": 29,
   "id": "f40ded91",
   "metadata": {},
   "outputs": [],
   "source": [
    "array=np.arange(25)"
   ]
  },
  {
   "cell_type": "code",
   "execution_count": 30,
   "id": "d54aba4f",
   "metadata": {},
   "outputs": [
    {
     "data": {
      "text/plain": [
       "array([ 0,  1,  2,  3,  4,  5,  6,  7,  8,  9, 10, 11, 12, 13, 14, 15, 16,\n",
       "       17, 18, 19, 20, 21, 22, 23, 24])"
      ]
     },
     "execution_count": 30,
     "metadata": {},
     "output_type": "execute_result"
    }
   ],
   "source": [
    "array"
   ]
  },
  {
   "cell_type": "code",
   "execution_count": 31,
   "id": "bfd0ee20",
   "metadata": {},
   "outputs": [
    {
     "data": {
      "text/plain": [
       "25"
      ]
     },
     "execution_count": 31,
     "metadata": {},
     "output_type": "execute_result"
    }
   ],
   "source": [
    "len(array)# length of array"
   ]
  },
  {
   "cell_type": "code",
   "execution_count": 32,
   "id": "da450659",
   "metadata": {},
   "outputs": [
    {
     "data": {
      "text/plain": [
       "array([ 0,  1,  2,  3,  4,  5,  6,  7,  8,  9, 10, 11, 12, 13, 14, 15, 16,\n",
       "       17, 18, 19, 20, 21, 22, 23, 24])"
      ]
     },
     "execution_count": 32,
     "metadata": {},
     "output_type": "execute_result"
    }
   ],
   "source": [
    "array"
   ]
  },
  {
   "cell_type": "code",
   "execution_count": 33,
   "id": "1f6f2754",
   "metadata": {},
   "outputs": [],
   "source": [
    "# reshape"
   ]
  },
  {
   "cell_type": "code",
   "execution_count": 34,
   "id": "e44293a5",
   "metadata": {},
   "outputs": [
    {
     "data": {
      "text/plain": [
       "array([[ 0,  1,  2,  3,  4],\n",
       "       [ 5,  6,  7,  8,  9],\n",
       "       [10, 11, 12, 13, 14],\n",
       "       [15, 16, 17, 18, 19],\n",
       "       [20, 21, 22, 23, 24]])"
      ]
     },
     "execution_count": 34,
     "metadata": {},
     "output_type": "execute_result"
    }
   ],
   "source": [
    "array.reshape(5,5) # reshape of array  5 by 5 matrix's "
   ]
  },
  {
   "cell_type": "code",
   "execution_count": 35,
   "id": "bbb7dc49",
   "metadata": {},
   "outputs": [],
   "source": [
    "#matrix aggregation"
   ]
  },
  {
   "cell_type": "code",
   "execution_count": 36,
   "id": "5b474752",
   "metadata": {},
   "outputs": [],
   "source": [
    "# specific operation or function to all elements of a matrix.\n",
    "# max, min, argmax,argmin,sum"
   ]
  },
  {
   "cell_type": "code",
   "execution_count": 37,
   "id": "20ea4824",
   "metadata": {},
   "outputs": [],
   "source": [
    "array=np.random.randint(0,50,25)"
   ]
  },
  {
   "cell_type": "code",
   "execution_count": 38,
   "id": "113a5922",
   "metadata": {},
   "outputs": [
    {
     "data": {
      "text/plain": [
       "array([16,  3, 42, 19, 35, 29, 42,  2, 38, 36, 20, 31, 41, 11, 39, 18,  4,\n",
       "       46,  0, 30, 43, 43, 36, 26, 33])"
      ]
     },
     "execution_count": 38,
     "metadata": {},
     "output_type": "execute_result"
    }
   ],
   "source": [
    "array"
   ]
  },
  {
   "cell_type": "code",
   "execution_count": 39,
   "id": "da75c119",
   "metadata": {},
   "outputs": [
    {
     "data": {
      "text/plain": [
       "46"
      ]
     },
     "execution_count": 39,
     "metadata": {},
     "output_type": "execute_result"
    }
   ],
   "source": [
    "array.max() #maximum number in array "
   ]
  },
  {
   "cell_type": "code",
   "execution_count": 40,
   "id": "13609171",
   "metadata": {},
   "outputs": [
    {
     "data": {
      "text/plain": [
       "17"
      ]
     },
     "execution_count": 40,
     "metadata": {},
     "output_type": "execute_result"
    }
   ],
   "source": [
    "array.argmax() #maximum index number /  maximum position number "
   ]
  },
  {
   "cell_type": "code",
   "execution_count": 41,
   "id": "1ac6636a",
   "metadata": {},
   "outputs": [
    {
     "data": {
      "text/plain": [
       "0"
      ]
     },
     "execution_count": 41,
     "metadata": {},
     "output_type": "execute_result"
    }
   ],
   "source": [
    "array.min() # minimum number in array \n"
   ]
  },
  {
   "cell_type": "code",
   "execution_count": 42,
   "id": "e1652581",
   "metadata": {},
   "outputs": [
    {
     "data": {
      "text/plain": [
       "18"
      ]
     },
     "execution_count": 42,
     "metadata": {},
     "output_type": "execute_result"
    }
   ],
   "source": [
    "array.argmin() #returns indices of the min element of the array/ position"
   ]
  },
  {
   "cell_type": "code",
   "execution_count": 43,
   "id": "c95a7dad",
   "metadata": {},
   "outputs": [
    {
     "data": {
      "text/plain": [
       "683"
      ]
     },
     "execution_count": 43,
     "metadata": {},
     "output_type": "execute_result"
    }
   ],
   "source": [
    "array.sum() "
   ]
  },
  {
   "cell_type": "code",
   "execution_count": 44,
   "id": "08f7f6ce",
   "metadata": {},
   "outputs": [],
   "source": [
    "# shape"
   ]
  },
  {
   "cell_type": "code",
   "execution_count": 45,
   "id": "76b086c4",
   "metadata": {},
   "outputs": [
    {
     "data": {
      "text/plain": [
       "(25,)"
      ]
     },
     "execution_count": 45,
     "metadata": {},
     "output_type": "execute_result"
    }
   ],
   "source": [
    "array.shape"
   ]
  },
  {
   "cell_type": "code",
   "execution_count": 46,
   "id": "d3e4b70d",
   "metadata": {},
   "outputs": [
    {
     "data": {
      "text/plain": [
       "array([[16,  3, 42, 19, 35],\n",
       "       [29, 42,  2, 38, 36],\n",
       "       [20, 31, 41, 11, 39],\n",
       "       [18,  4, 46,  0, 30],\n",
       "       [43, 43, 36, 26, 33]])"
      ]
     },
     "execution_count": 46,
     "metadata": {},
     "output_type": "execute_result"
    }
   ],
   "source": [
    "array.reshape(5,5) "
   ]
  },
  {
   "cell_type": "code",
   "execution_count": 47,
   "id": "b75d2cd3",
   "metadata": {},
   "outputs": [
    {
     "data": {
      "text/plain": [
       "array([[16,  3, 42, 19, 35, 29, 42,  2, 38, 36, 20, 31, 41, 11, 39, 18,\n",
       "         4, 46,  0, 30, 43, 43, 36, 26, 33]])"
      ]
     },
     "execution_count": 47,
     "metadata": {},
     "output_type": "execute_result"
    }
   ],
   "source": [
    "array.reshape(1,25)"
   ]
  },
  {
   "cell_type": "markdown",
   "id": "6bc1d50f",
   "metadata": {},
   "source": [
    ".............................................................................................................................................................................................................................................................."
   ]
  },
  {
   "cell_type": "markdown",
   "id": "f2f6f025",
   "metadata": {},
   "source": [
    "numpy indexing and selection"
   ]
  },
  {
   "cell_type": "code",
   "execution_count": 50,
   "id": "89dc0e2a",
   "metadata": {},
   "outputs": [],
   "source": [
    "import numpy as np \n",
    "array=np.arange(20,30) "
   ]
  },
  {
   "cell_type": "code",
   "execution_count": 51,
   "id": "1a6e6b30",
   "metadata": {},
   "outputs": [
    {
     "data": {
      "text/plain": [
       "array([20, 21, 22, 23, 24, 25, 26, 27, 28, 29])"
      ]
     },
     "execution_count": 51,
     "metadata": {},
     "output_type": "execute_result"
    }
   ],
   "source": [
    "array"
   ]
  },
  {
   "cell_type": "code",
   "execution_count": 52,
   "id": "5d44c6ab",
   "metadata": {},
   "outputs": [
    {
     "data": {
      "text/plain": [
       "29"
      ]
     },
     "execution_count": 52,
     "metadata": {},
     "output_type": "execute_result"
    }
   ],
   "source": [
    "array[-1] # negative indexing start with -1"
   ]
  },
  {
   "cell_type": "code",
   "execution_count": 53,
   "id": "d308ff88",
   "metadata": {},
   "outputs": [
    {
     "data": {
      "text/plain": [
       "array([20, 23, 26])"
      ]
     },
     "execution_count": 53,
     "metadata": {},
     "output_type": "execute_result"
    }
   ],
   "source": [
    "array[0:9:3] # [start:Stop:Step]"
   ]
  },
  {
   "cell_type": "code",
   "execution_count": 54,
   "id": "a594bdde",
   "metadata": {},
   "outputs": [
    {
     "data": {
      "text/plain": [
       "array([[1, 2, 3],\n",
       "       [5, 6, 7]])"
      ]
     },
     "execution_count": 54,
     "metadata": {},
     "output_type": "execute_result"
    }
   ],
   "source": [
    "matrix=np.array([[1,2,3],[5,6,7]])\n",
    "matrix"
   ]
  },
  {
   "cell_type": "code",
   "execution_count": 55,
   "id": "884ff555",
   "metadata": {},
   "outputs": [
    {
     "data": {
      "text/plain": [
       "array([5, 6, 7])"
      ]
     },
     "execution_count": 55,
     "metadata": {},
     "output_type": "execute_result"
    }
   ],
   "source": [
    "matrix[1]"
   ]
  },
  {
   "cell_type": "code",
   "execution_count": 56,
   "id": "cf27ee18",
   "metadata": {},
   "outputs": [],
   "source": [
    "array =np.arange(20,40)"
   ]
  },
  {
   "cell_type": "code",
   "execution_count": 57,
   "id": "6be36673",
   "metadata": {},
   "outputs": [
    {
     "data": {
      "text/plain": [
       "array([20, 21, 22, 23, 24, 25, 26, 27, 28, 29, 30, 31, 32, 33, 34, 35, 36,\n",
       "       37, 38, 39])"
      ]
     },
     "execution_count": 57,
     "metadata": {},
     "output_type": "execute_result"
    }
   ],
   "source": [
    "array"
   ]
  },
  {
   "cell_type": "code",
   "execution_count": 58,
   "id": "d843b8d8",
   "metadata": {},
   "outputs": [],
   "source": [
    "# slicing"
   ]
  },
  {
   "cell_type": "code",
   "execution_count": 59,
   "id": "9ccab55d",
   "metadata": {},
   "outputs": [
    {
     "data": {
      "text/plain": [
       "array([ 0,  1,  2,  3,  4,  5,  6,  7,  8,  9, 10])"
      ]
     },
     "execution_count": 59,
     "metadata": {},
     "output_type": "execute_result"
    }
   ],
   "source": [
    "array=np.arange(11)\n",
    "array\n"
   ]
  },
  {
   "cell_type": "code",
   "execution_count": 60,
   "id": "5a64ff81",
   "metadata": {},
   "outputs": [
    {
     "data": {
      "text/plain": [
       "array([ 0,  1,  2,  3,  4,  5,  6,  7,  8,  9, 10])"
      ]
     },
     "execution_count": 60,
     "metadata": {},
     "output_type": "execute_result"
    }
   ],
   "source": [
    " array[:]"
   ]
  },
  {
   "cell_type": "code",
   "execution_count": 61,
   "id": "e9fa1d22",
   "metadata": {},
   "outputs": [
    {
     "data": {
      "text/plain": [
       "array([3, 4, 5, 6, 7])"
      ]
     },
     "execution_count": 61,
     "metadata": {},
     "output_type": "execute_result"
    }
   ],
   "source": [
    "y=array[3:8]\n",
    "y"
   ]
  },
  {
   "cell_type": "code",
   "execution_count": 62,
   "id": "297e7514",
   "metadata": {},
   "outputs": [],
   "source": [
    "# 2 D array "
   ]
  },
  {
   "cell_type": "code",
   "execution_count": 63,
   "id": "f9f57d3a",
   "metadata": {},
   "outputs": [
    {
     "data": {
      "text/plain": [
       "array([[1, 2, 3],\n",
       "       [4, 5, 6],\n",
       "       [7, 8, 9]])"
      ]
     },
     "execution_count": 63,
     "metadata": {},
     "output_type": "execute_result"
    }
   ],
   "source": [
    "import numpy as np\n",
    "array2d=np.array([[1,2,3],[4,5,6],[7,8,9]])\n",
    "array2d"
   ]
  },
  {
   "cell_type": "code",
   "execution_count": 64,
   "id": "52134012",
   "metadata": {},
   "outputs": [
    {
     "data": {
      "text/plain": [
       "array([[4, 5],\n",
       "       [7, 8]])"
      ]
     },
     "execution_count": 64,
     "metadata": {},
     "output_type": "execute_result"
    }
   ],
   "source": [
    "array2d[1:,0:2] # row and col"
   ]
  },
  {
   "cell_type": "code",
   "execution_count": 65,
   "id": "7554d892",
   "metadata": {},
   "outputs": [
    {
     "data": {
      "text/plain": [
       "array([7, 8, 9])"
      ]
     },
     "execution_count": 65,
     "metadata": {},
     "output_type": "execute_result"
    }
   ],
   "source": [
    "array2d[2] # indexing \n"
   ]
  },
  {
   "cell_type": "code",
   "execution_count": 66,
   "id": "d31df01a",
   "metadata": {},
   "outputs": [
    {
     "data": {
      "text/plain": [
       "9"
      ]
     },
     "execution_count": 66,
     "metadata": {},
     "output_type": "execute_result"
    }
   ],
   "source": [
    "array2d[2,2] # Getting individual element value"
   ]
  },
  {
   "cell_type": "code",
   "execution_count": 67,
   "id": "f1ba9399",
   "metadata": {},
   "outputs": [
    {
     "data": {
      "text/plain": [
       "array([7, 8, 9])"
      ]
     },
     "execution_count": 67,
     "metadata": {},
     "output_type": "execute_result"
    }
   ],
   "source": [
    "array2d[2,:] # bottom row"
   ]
  },
  {
   "cell_type": "code",
   "execution_count": 68,
   "id": "74d7e28e",
   "metadata": {},
   "outputs": [
    {
     "data": {
      "text/plain": [
       "array([3, 6, 9])"
      ]
     },
     "execution_count": 68,
     "metadata": {},
     "output_type": "execute_result"
    }
   ],
   "source": [
    "array2d[:,2] # last col"
   ]
  },
  {
   "cell_type": "code",
   "execution_count": 69,
   "id": "425c4082",
   "metadata": {},
   "outputs": [],
   "source": [
    "# selection \n",
    "\n"
   ]
  },
  {
   "cell_type": "code",
   "execution_count": 70,
   "id": "fb750d31",
   "metadata": {},
   "outputs": [],
   "source": [
    "array=np.arange(1,22)"
   ]
  },
  {
   "cell_type": "code",
   "execution_count": 71,
   "id": "4e723565",
   "metadata": {},
   "outputs": [
    {
     "data": {
      "text/plain": [
       "array([ 1,  2,  3,  4,  5,  6,  7,  8,  9, 10, 11, 12, 13, 14, 15, 16, 17,\n",
       "       18, 19, 20, 21])"
      ]
     },
     "execution_count": 71,
     "metadata": {},
     "output_type": "execute_result"
    }
   ],
   "source": [
    "array"
   ]
  },
  {
   "cell_type": "code",
   "execution_count": 72,
   "id": "e040995b",
   "metadata": {},
   "outputs": [
    {
     "data": {
      "text/plain": [
       "array([1, 2, 3, 4, 5])"
      ]
     },
     "execution_count": 72,
     "metadata": {},
     "output_type": "execute_result"
    }
   ],
   "source": [
    "array[array <6]"
   ]
  },
  {
   "cell_type": "code",
   "execution_count": 73,
   "id": "9b9a0b34",
   "metadata": {},
   "outputs": [
    {
     "data": {
      "text/plain": [
       "array([1, 2, 3, 4, 5, 6])"
      ]
     },
     "execution_count": 73,
     "metadata": {},
     "output_type": "execute_result"
    }
   ],
   "source": [
    "array[array <=6]"
   ]
  },
  {
   "cell_type": "code",
   "execution_count": 74,
   "id": "64c1a6e2",
   "metadata": {},
   "outputs": [
    {
     "data": {
      "text/plain": [
       "array([ 7,  8,  9, 10, 11, 12, 13, 14, 15, 16, 17, 18, 19, 20, 21])"
      ]
     },
     "execution_count": 74,
     "metadata": {},
     "output_type": "execute_result"
    }
   ],
   "source": [
    "array[array >6]"
   ]
  },
  {
   "cell_type": "code",
   "execution_count": 75,
   "id": "3409e5d1",
   "metadata": {},
   "outputs": [
    {
     "data": {
      "text/plain": [
       "array([ 6,  7,  8,  9, 10, 11, 12, 13, 14, 15, 16, 17, 18, 19, 20, 21])"
      ]
     },
     "execution_count": 75,
     "metadata": {},
     "output_type": "execute_result"
    }
   ],
   "source": [
    "array[array >=6]"
   ]
  },
  {
   "cell_type": "code",
   "execution_count": 76,
   "id": "a6373ad6",
   "metadata": {},
   "outputs": [],
   "source": [
    "bool_array =array>3"
   ]
  },
  {
   "cell_type": "code",
   "execution_count": 77,
   "id": "a9e9f65c",
   "metadata": {},
   "outputs": [
    {
     "data": {
      "text/plain": [
       "array([False, False, False,  True,  True,  True,  True,  True,  True,\n",
       "        True,  True,  True,  True,  True,  True,  True,  True,  True,\n",
       "        True,  True,  True])"
      ]
     },
     "execution_count": 77,
     "metadata": {},
     "output_type": "execute_result"
    }
   ],
   "source": [
    "bool_array"
   ]
  },
  {
   "cell_type": "code",
   "execution_count": 78,
   "id": "65f0397b",
   "metadata": {},
   "outputs": [
    {
     "data": {
      "text/plain": [
       "array([ 4,  5,  6,  7,  8,  9, 10, 11, 12, 13, 14, 15, 16, 17, 18, 19, 20,\n",
       "       21])"
      ]
     },
     "execution_count": 78,
     "metadata": {},
     "output_type": "execute_result"
    }
   ],
   "source": [
    "array[bool_array]"
   ]
  },
  {
   "cell_type": "code",
   "execution_count": null,
   "id": "fb1a9c77",
   "metadata": {},
   "outputs": [],
   "source": []
  },
  {
   "cell_type": "code",
   "execution_count": 79,
   "id": "b406d7f5",
   "metadata": {},
   "outputs": [],
   "source": [
    "# NumPy Operations"
   ]
  },
  {
   "cell_type": "code",
   "execution_count": 80,
   "id": "b587dd8c",
   "metadata": {},
   "outputs": [
    {
     "data": {
      "text/plain": [
       "array([[0, 1, 2],\n",
       "       [3, 4, 5],\n",
       "       [6, 7, 8]])"
      ]
     },
     "execution_count": 80,
     "metadata": {},
     "output_type": "execute_result"
    }
   ],
   "source": [
    "import numpy as np\n",
    "arr =np.arange(0,9).reshape(3,3)\n",
    "arr"
   ]
  },
  {
   "cell_type": "code",
   "execution_count": 81,
   "id": "26d1a716",
   "metadata": {},
   "outputs": [
    {
     "data": {
      "text/plain": [
       "array([[ 0,  2,  4],\n",
       "       [ 6,  8, 10],\n",
       "       [12, 14, 16]])"
      ]
     },
     "execution_count": 81,
     "metadata": {},
     "output_type": "execute_result"
    }
   ],
   "source": [
    "arr*2"
   ]
  },
  {
   "cell_type": "code",
   "execution_count": 82,
   "id": "8b539921",
   "metadata": {},
   "outputs": [
    {
     "data": {
      "text/plain": [
       "array([[ 0,  2,  4],\n",
       "       [ 6,  8, 10],\n",
       "       [12, 14, 16]])"
      ]
     },
     "execution_count": 82,
     "metadata": {},
     "output_type": "execute_result"
    }
   ],
   "source": [
    "arr+arr"
   ]
  },
  {
   "cell_type": "code",
   "execution_count": 93,
   "id": "9d57d63e",
   "metadata": {},
   "outputs": [
    {
     "data": {
      "text/plain": [
       "array([[ 0,  1,  4],\n",
       "       [ 9, 16, 25],\n",
       "       [36, 49, 64]])"
      ]
     },
     "execution_count": 93,
     "metadata": {},
     "output_type": "execute_result"
    }
   ],
   "source": [
    "arr*arr"
   ]
  },
  {
   "cell_type": "code",
   "execution_count": 94,
   "id": "b4814c65",
   "metadata": {},
   "outputs": [
    {
     "name": "stderr",
     "output_type": "stream",
     "text": [
      "C:\\Users\\Yuvraj\\AppData\\Local\\Temp/ipykernel_19632/1862401812.py:1: RuntimeWarning: invalid value encountered in true_divide\n",
      "  arr/arr\n"
     ]
    },
    {
     "data": {
      "text/plain": [
       "array([[nan,  1.,  1.],\n",
       "       [ 1.,  1.,  1.],\n",
       "       [ 1.,  1.,  1.]])"
      ]
     },
     "execution_count": 94,
     "metadata": {},
     "output_type": "execute_result"
    }
   ],
   "source": [
    "arr/arr"
   ]
  },
  {
   "cell_type": "code",
   "execution_count": 95,
   "id": "0cd656ff",
   "metadata": {},
   "outputs": [
    {
     "name": "stderr",
     "output_type": "stream",
     "text": [
      "C:\\Users\\Yuvraj\\AppData\\Local\\Temp/ipykernel_19632/255282349.py:1: RuntimeWarning: divide by zero encountered in true_divide\n",
      "  1/arr\n"
     ]
    },
    {
     "data": {
      "text/plain": [
       "array([[       inf, 1.        , 0.5       ],\n",
       "       [0.33333333, 0.25      , 0.2       ],\n",
       "       [0.16666667, 0.14285714, 0.125     ]])"
      ]
     },
     "execution_count": 95,
     "metadata": {},
     "output_type": "execute_result"
    }
   ],
   "source": [
    "1/arr"
   ]
  },
  {
   "cell_type": "code",
   "execution_count": 96,
   "id": "9dba5c02",
   "metadata": {},
   "outputs": [
    {
     "data": {
      "text/plain": [
       "array([[ 0,  1,  4],\n",
       "       [ 9, 16, 25],\n",
       "       [36, 49, 64]], dtype=int32)"
      ]
     },
     "execution_count": 96,
     "metadata": {},
     "output_type": "execute_result"
    }
   ],
   "source": [
    "arr**2"
   ]
  },
  {
   "cell_type": "code",
   "execution_count": 103,
   "id": "7a0fa9ef",
   "metadata": {},
   "outputs": [
    {
     "data": {
      "text/plain": [
       "array([[1, 2],\n",
       "       [3, 4]])"
      ]
     },
     "execution_count": 103,
     "metadata": {},
     "output_type": "execute_result"
    }
   ],
   "source": [
    "import numpy as np \n",
    "a =np.array([1,2,3,4]).reshape(2,2)\n",
    "a"
   ]
  },
  {
   "cell_type": "code",
   "execution_count": 104,
   "id": "a547195a",
   "metadata": {},
   "outputs": [
    {
     "data": {
      "text/plain": [
       "array([[11, 12],\n",
       "       [13, 14]])"
      ]
     },
     "execution_count": 104,
     "metadata": {},
     "output_type": "execute_result"
    }
   ],
   "source": [
    "b =np.array([11,12,13,14]).reshape(2,2)\n",
    "b"
   ]
  },
  {
   "cell_type": "code",
   "execution_count": 105,
   "id": "7ad5400b",
   "metadata": {},
   "outputs": [
    {
     "data": {
      "text/plain": [
       "array([[11, 24],\n",
       "       [39, 56]])"
      ]
     },
     "execution_count": 105,
     "metadata": {},
     "output_type": "execute_result"
    }
   ],
   "source": [
    "a*b "
   ]
  },
  {
   "cell_type": "code",
   "execution_count": 106,
   "id": "c6d49aec",
   "metadata": {},
   "outputs": [
    {
     "data": {
      "text/plain": [
       "array([[37, 40],\n",
       "       [85, 92]])"
      ]
     },
     "execution_count": 106,
     "metadata": {},
     "output_type": "execute_result"
    }
   ],
   "source": [
    "np.dot(a,b)# 1 st row multiple by 1 col and 1 st row ssecond  col"
   ]
  },
  {
   "cell_type": "code",
   "execution_count": 109,
   "id": "1612354a",
   "metadata": {},
   "outputs": [
    {
     "data": {
      "text/plain": [
       "array([[0.        , 1.        , 1.41421356],\n",
       "       [1.73205081, 2.        , 2.23606798],\n",
       "       [2.44948974, 2.64575131, 2.82842712]])"
      ]
     },
     "execution_count": 109,
     "metadata": {},
     "output_type": "execute_result"
    }
   ],
   "source": [
    "np.sqrt(arr)"
   ]
  },
  {
   "cell_type": "code",
   "execution_count": 110,
   "id": "7092492f",
   "metadata": {},
   "outputs": [
    {
     "data": {
      "text/plain": [
       "array([[1.00000000e+00, 2.71828183e+00, 7.38905610e+00],\n",
       "       [2.00855369e+01, 5.45981500e+01, 1.48413159e+02],\n",
       "       [4.03428793e+02, 1.09663316e+03, 2.98095799e+03]])"
      ]
     },
     "execution_count": 110,
     "metadata": {},
     "output_type": "execute_result"
    }
   ],
   "source": [
    "np.exp(arr)"
   ]
  },
  {
   "cell_type": "code",
   "execution_count": 111,
   "id": "c0e2a02d",
   "metadata": {},
   "outputs": [
    {
     "data": {
      "text/plain": [
       "8"
      ]
     },
     "execution_count": 111,
     "metadata": {},
     "output_type": "execute_result"
    }
   ],
   "source": [
    "np.max(arr)"
   ]
  },
  {
   "cell_type": "code",
   "execution_count": 112,
   "id": "853a092a",
   "metadata": {},
   "outputs": [
    {
     "data": {
      "text/plain": [
       "0"
      ]
     },
     "execution_count": 112,
     "metadata": {},
     "output_type": "execute_result"
    }
   ],
   "source": [
    "np.min(arr)"
   ]
  },
  {
   "cell_type": "code",
   "execution_count": 113,
   "id": "c32a71d2",
   "metadata": {},
   "outputs": [
    {
     "data": {
      "text/plain": [
       "array([[ 0.        ,  1.55740772, -2.18503986],\n",
       "       [-0.14254654,  1.15782128, -3.38051501],\n",
       "       [-0.29100619,  0.87144798, -6.79971146]])"
      ]
     },
     "execution_count": 113,
     "metadata": {},
     "output_type": "execute_result"
    }
   ],
   "source": [
    "np.tan(arr)"
   ]
  },
  {
   "cell_type": "code",
   "execution_count": 114,
   "id": "c9b0d492",
   "metadata": {},
   "outputs": [
    {
     "data": {
      "text/plain": [
       "array([[ 1.        ,  0.54030231, -0.41614684],\n",
       "       [-0.9899925 , -0.65364362,  0.28366219],\n",
       "       [ 0.96017029,  0.75390225, -0.14550003]])"
      ]
     },
     "execution_count": 114,
     "metadata": {},
     "output_type": "execute_result"
    }
   ],
   "source": [
    "np.cos(arr)"
   ]
  },
  {
   "cell_type": "code",
   "execution_count": 115,
   "id": "4ef86d5d",
   "metadata": {},
   "outputs": [
    {
     "data": {
      "text/plain": [
       "array([[ 0.        ,  0.84147098,  0.90929743],\n",
       "       [ 0.14112001, -0.7568025 , -0.95892427],\n",
       "       [-0.2794155 ,  0.6569866 ,  0.98935825]])"
      ]
     },
     "execution_count": 115,
     "metadata": {},
     "output_type": "execute_result"
    }
   ],
   "source": [
    "np.sin(arr)"
   ]
  },
  {
   "cell_type": "code",
   "execution_count": 117,
   "id": "10b0294d",
   "metadata": {},
   "outputs": [
    {
     "name": "stderr",
     "output_type": "stream",
     "text": [
      "C:\\Users\\Yuvraj\\AppData\\Local\\Temp/ipykernel_19632/3313567171.py:1: RuntimeWarning: divide by zero encountered in true_divide\n",
      "  1/np.sign(arr)\n"
     ]
    },
    {
     "data": {
      "text/plain": [
       "array([[inf,  1.,  1.],\n",
       "       [ 1.,  1.,  1.],\n",
       "       [ 1.,  1.,  1.]])"
      ]
     },
     "execution_count": 117,
     "metadata": {},
     "output_type": "execute_result"
    }
   ],
   "source": [
    "1/np.sign(arr)"
   ]
  },
  {
   "cell_type": "markdown",
   "id": "6ab005e5",
   "metadata": {},
   "source": [
    "* Yuvraj Sutar \n",
    "* yuvrajsutar009@gmail.com"
   ]
  }
 ],
 "metadata": {
  "kernelspec": {
   "display_name": "Python 3 (ipykernel)",
   "language": "python",
   "name": "python3"
  },
  "language_info": {
   "codemirror_mode": {
    "name": "ipython",
    "version": 3
   },
   "file_extension": ".py",
   "mimetype": "text/x-python",
   "name": "python",
   "nbconvert_exporter": "python",
   "pygments_lexer": "ipython3",
   "version": "3.9.7"
  }
 },
 "nbformat": 4,
 "nbformat_minor": 5
}
