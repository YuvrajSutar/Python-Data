{
 "cells": [
  {
   "cell_type": "markdown",
   "metadata": {},
   "source": [
    "________________________________________________________________________________________________________________________\n",
    "\n",
    "\n",
    "* Yuvraj Sutar \n",
    "* yuvrajsutar009@gmail.com\n",
    "_ _________________________________________________________________________________________________________________________\n",
    "_  _________________________________________________________________________________________________________________________"
   ]
  },
  {
   "cell_type": "markdown",
   "metadata": {},
   "source": [
    "# Format function"
   ]
  },
  {
   "cell_type": "markdown",
   "metadata": {},
   "source": [
    "- str.format() is one of the string formatting methods in Python3, which allows multiple substitutions and value formatting. This method let you concatenate elements within a string through positional formatting.\n",
    "\n",
    "- Using a Single Formatter :\n",
    "\n",
    " -Formatters work by putting in one or more replacement fields and placeholders defined by a pair of curly braces { } into a string and calling the str.format(). \n",
    " \n",
    " -The value we wish to put into the placeholders and concatenate with the string passed as parameters into the format function."
   ]
  },
  {
   "cell_type": "raw",
   "metadata": {},
   "source": [
    "Syntax:"
   ]
  },
  {
   "cell_type": "raw",
   "metadata": {},
   "source": [
    "{ } .format(value)"
   ]
  },
  {
   "cell_type": "code",
   "execution_count": 1,
   "metadata": {},
   "outputs": [
    {
     "name": "stdout",
     "output_type": "stream",
     "text": [
      "AIS, A computer science portal for students.\n"
     ]
    }
   ],
   "source": [
    "#Example\n",
    "\n",
    "#using format option in a simple string \n",
    "print (\"{}, A computer science portal for students.\".format(\"AIS\")) \n",
    "  "
   ]
  },
  {
   "cell_type": "code",
   "execution_count": 2,
   "metadata": {
    "scrolled": true
   },
   "outputs": [
    {
     "name": "stdout",
     "output_type": "stream",
     "text": [
      "This article is written in Python\n"
     ]
    }
   ],
   "source": [
    "#Example\n",
    "\n",
    "# using format option for a value stored in a variable \n",
    "str1 = \"This article is written in {}\"\n",
    "print (str1.format(\"Python\")) "
   ]
  },
  {
   "cell_type": "code",
   "execution_count": 3,
   "metadata": {},
   "outputs": [
    {
     "name": "stdout",
     "output_type": "stream",
     "text": [
      "Hello, I am 20 years old !\n"
     ]
    }
   ],
   "source": [
    "#Example\n",
    "\n",
    "# formatting a string using a numeric constant \n",
    "print (\"Hello, I am {} years old !\".format(20))  \n"
   ]
  },
  {
   "cell_type": "markdown",
   "metadata": {},
   "source": [
    "* Using Multiple Formatters :\n",
    "\n",
    " -Multiple pairs of curly braces can be used while formatting the string. "
   ]
  },
  {
   "cell_type": "raw",
   "metadata": {},
   "source": [
    "Syntax:"
   ]
  },
  {
   "cell_type": "raw",
   "metadata": {},
   "source": [
    "{ } { } .format(value1, value2)"
   ]
  },
  {
   "cell_type": "code",
   "execution_count": 4,
   "metadata": {},
   "outputs": [
    {
     "name": "stdout",
     "output_type": "stream",
     "text": [
      "w3 school is a computer science portal for students !\n"
     ]
    }
   ],
   "source": [
    "#Example\n",
    "\n",
    "#Multiple placeholders in format() function \n",
    "my_string = \"{} is a {} science portal for {}\"\n",
    "print (my_string.format(\"w3 school\", \"computer\", \"students !\")) "
   ]
  },
  {
   "cell_type": "code",
   "execution_count": 5,
   "metadata": {},
   "outputs": [
    {
     "data": {
      "text/plain": [
       "'my name is Yuvraj, my age is 28'"
      ]
     },
     "execution_count": 5,
     "metadata": {},
     "output_type": "execute_result"
    }
   ],
   "source": [
    "\"my name is {n}, my age is {a}\".format(n=\"Yuvraj\",a=28)"
   ]
  },
  {
   "cell_type": "code",
   "execution_count": 6,
   "metadata": {},
   "outputs": [
    {
     "data": {
      "text/plain": [
       "' my name is nikhil, my age is 25, city name is pune'"
      ]
     },
     "execution_count": 6,
     "metadata": {},
     "output_type": "execute_result"
    }
   ],
   "source": [
    "\" my name is {Name}, my age is {age}, city name is {city}\".format(city=\"pune\",Name=\"nikhil\",age=25)"
   ]
  },
  {
   "cell_type": "code",
   "execution_count": 7,
   "metadata": {},
   "outputs": [
    {
     "name": "stdout",
     "output_type": "stream",
     "text": [
      "my name is Yuvraj, my age is 23, my city is pune\n",
      "my name is viky, my age is 35, my city is nandani\n",
      "my name is Vaibhav, my age is 25, my city is kolhapur\n"
     ]
    }
   ],
   "source": [
    "#advance example\n",
    "\n",
    "l=[\"Yuvraj\",\"viky\",\"Vaibhav\",\"me\"]\n",
    "a=[23,35,25,26]\n",
    "c=[\"pune\",\"nandani\",\"kolhapur\"]\n",
    "\n",
    "for i in range(len(c)):\n",
    "    print(\"my name is {n}, my age is {a}, my city is {c}\".format(c=c[i],n=l[i],a=a[i]))"
   ]
  },
  {
   "cell_type": "code",
   "execution_count": 8,
   "metadata": {},
   "outputs": [
    {
     "name": "stdout",
     "output_type": "stream",
     "text": [
      "my name is Yuvraj, my age is 23, my city is pune\n",
      "my name is viky, my age is 35, my city is nandani\n",
      "my name is Vaibhav, my age is 25, my city is kolhapur\n",
      "my name is me, my age is 26, my city is sangli\n"
     ]
    }
   ],
   "source": [
    "l=[\"Yuvraj\",\"viky\",\"Vaibhav\",\"me\"]\n",
    "a=[23,35,25,26]\n",
    "c=[\"pune\",\"nandani\",\"kolhapur\",\"sangli\"]\n",
    "\n",
    "for i in range(len(l)):\n",
    "    print(\"my name is {}, my age is {}, my city is {}\".format(l[i],a[i],c[i]))"
   ]
  },
  {
   "cell_type": "code",
   "execution_count": 9,
   "metadata": {},
   "outputs": [
    {
     "name": "stdout",
     "output_type": "stream",
     "text": [
      "my name is a, my age is 28\n",
      "my name is b, my age is 28\n",
      "my name is c, my age is 28\n"
     ]
    }
   ],
   "source": [
    "n=[\"a\",\"b\",\"c\"]\n",
    "a=[24,25,29]\n",
    "for i in n:\n",
    "    print(\"my name is {name}, my age is {age}\".format(age=28,name=i))"
   ]
  },
  {
   "cell_type": "code",
   "execution_count": null,
   "metadata": {},
   "outputs": [],
   "source": []
  }
 ],
 "metadata": {
  "kernelspec": {
   "display_name": "Python 3 (ipykernel)",
   "language": "python",
   "name": "python3"
  },
  "language_info": {
   "codemirror_mode": {
    "name": "ipython",
    "version": 3
   },
   "file_extension": ".py",
   "mimetype": "text/x-python",
   "name": "python",
   "nbconvert_exporter": "python",
   "pygments_lexer": "ipython3",
   "version": "3.9.7"
  }
 },
 "nbformat": 4,
 "nbformat_minor": 2
}
