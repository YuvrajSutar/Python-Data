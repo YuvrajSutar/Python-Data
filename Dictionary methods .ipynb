{
 "cells": [
  {
   "cell_type": "markdown",
   "id": "e08837ab",
   "metadata": {},
   "source": [
    "________________________________________________________________________________________________________________________\n",
    "\n",
    "\n",
    "* Yuvraj Sutar \n",
    "* yuvrajsutar009@gmail.com\n",
    "_ _________________________________________________________________________________________________________________________\n",
    "_  _________________________________________________________________________________________________________________________\n"
   ]
  },
  {
   "cell_type": "markdown",
   "id": "66624398",
   "metadata": {},
   "source": [
    "get(): Retrieves the value for a given key. Returns a default value if the key is not present in the dictionary. \n",
    "\n",
    "update(): Updates the dictionary with the key-value pairs from another dictionary or an iterable of key-value pairs.\n",
    "\n",
    "setdefault(): Retrieves the value for a given key. If the key is not present in the dictionary, it sets a default value and returns it.\n",
    "\n",
    "pop(): Removes and returns the value for a given key. If the key is not present, it returns a default value (if provided).\n",
    "\n",
    "popitem(): Removes and returns an arbitrary key-value pair from the dictionary.\n",
    "\n",
    "clear(): Removes all key-value pairs from the dictionary.\n",
    "\n",
    "keys(): Returns a view of the keys in the dictionary.\n",
    "\n",
    "values(): Returns a view of the values in the dictionary.\n",
    "\n",
    "items(): Returns a view of the key-value pairs in the dictionary.\n",
    "\n",
    "copy(): Returns a shallow copy of the dictionary.\n"
   ]
  },
  {
   "cell_type": "code",
   "execution_count": 1,
   "id": "913f5d8e",
   "metadata": {},
   "outputs": [],
   "source": [
    "prices = {'apple': 0.5, 'banana': 0.25, 'orange': 0.75}"
   ]
  },
  {
   "cell_type": "code",
   "execution_count": 2,
   "id": "f85737ef",
   "metadata": {},
   "outputs": [],
   "source": [
    "# Get the value for a key\n",
    "price = prices.get('apple')  # price is 0.5"
   ]
  },
  {
   "cell_type": "code",
   "execution_count": 3,
   "id": "b194b1e9",
   "metadata": {},
   "outputs": [
    {
     "data": {
      "text/plain": [
       "0.5"
      ]
     },
     "execution_count": 3,
     "metadata": {},
     "output_type": "execute_result"
    }
   ],
   "source": [
    "price"
   ]
  },
  {
   "cell_type": "code",
   "execution_count": 4,
   "id": "be04de44",
   "metadata": {},
   "outputs": [],
   "source": [
    "# Get the value for a key, with a default value if the key is not present\n",
    "price = prices.get('pear', 0)  # price is 0"
   ]
  },
  {
   "cell_type": "code",
   "execution_count": 5,
   "id": "843591af",
   "metadata": {},
   "outputs": [
    {
     "data": {
      "text/plain": [
       "0"
      ]
     },
     "execution_count": 5,
     "metadata": {},
     "output_type": "execute_result"
    }
   ],
   "source": [
    "price"
   ]
  },
  {
   "cell_type": "code",
   "execution_count": null,
   "id": "7bc620e8",
   "metadata": {},
   "outputs": [],
   "source": [
    "# Update the dictionary with the key-value pairs from another dictionary\n",
    "prices.update({'pear': 0.5, 'grape': 0.75})  # prices is now {'apple': 0.5, 'banana': 0.25, 'orange': 0.75, 'pear': 0.5, 'grape': 0.75}"
   ]
  },
  {
   "cell_type": "code",
   "execution_count": 6,
   "id": "d48076c2",
   "metadata": {},
   "outputs": [
    {
     "data": {
      "text/plain": [
       "{'apple': 0.5, 'banana': 0.25, 'orange': 0.75}"
      ]
     },
     "execution_count": 6,
     "metadata": {},
     "output_type": "execute_result"
    }
   ],
   "source": [
    "prices"
   ]
  },
  {
   "cell_type": "code",
   "execution_count": 7,
   "id": "decd5e5c",
   "metadata": {},
   "outputs": [],
   "source": [
    "# Set a default value for a key and return it\n",
    "price = prices.setdefault('apple', 0)  # price is 0.5, and prices is now {'apple': 0.5, 'banana': 0.25, 'orange': 0.75, 'pear': 0.5, 'grape': 0.75}"
   ]
  },
  {
   "cell_type": "code",
   "execution_count": 8,
   "id": "5582d4a4",
   "metadata": {},
   "outputs": [
    {
     "data": {
      "text/plain": [
       "0.5"
      ]
     },
     "execution_count": 8,
     "metadata": {},
     "output_type": "execute_result"
    }
   ],
   "source": [
    "price"
   ]
  },
  {
   "cell_type": "code",
   "execution_count": 9,
   "id": "c7eb5c7d",
   "metadata": {},
   "outputs": [],
   "source": [
    "# Remove and return the value for a key\n",
    "price = prices.pop('apple')  # price is 0.5, and prices is now {'banana': 0.25, 'orange': 0.75, 'pear': 0.5, 'grape': 0.75}"
   ]
  },
  {
   "cell_type": "code",
   "execution_count": 10,
   "id": "722beee3",
   "metadata": {},
   "outputs": [
    {
     "data": {
      "text/plain": [
       "0.5"
      ]
     },
     "execution_count": 10,
     "metadata": {},
     "output_type": "execute_result"
    }
   ],
   "source": [
    "price"
   ]
  },
  {
   "cell_type": "code",
   "execution_count": 11,
   "id": "ff7175e2",
   "metadata": {},
   "outputs": [],
   "source": [
    "# Remove and return an arbitrary key-value pair from the dictionary\n",
    "pair = prices.popitem()  # pair is ('grape', 0.75), and prices is now {'banana': 0.25, 'orange': 0.75, 'pear': 0.5}\n"
   ]
  },
  {
   "cell_type": "code",
   "execution_count": 12,
   "id": "13d10b68",
   "metadata": {},
   "outputs": [
    {
     "data": {
      "text/plain": [
       "('orange', 0.75)"
      ]
     },
     "execution_count": 12,
     "metadata": {},
     "output_type": "execute_result"
    }
   ],
   "source": [
    "pair"
   ]
  },
  {
   "cell_type": "code",
   "execution_count": 13,
   "id": "b8064e8e",
   "metadata": {},
   "outputs": [],
   "source": [
    "# Remove all key-value pairs from the dictionary\n",
    "prices.clear()  # prices is now an empty dictionary"
   ]
  },
  {
   "cell_type": "code",
   "execution_count": 14,
   "id": "4abdb438",
   "metadata": {},
   "outputs": [
    {
     "data": {
      "text/plain": [
       "{}"
      ]
     },
     "execution_count": 14,
     "metadata": {},
     "output_type": "execute_result"
    }
   ],
   "source": [
    "prices"
   ]
  },
  {
   "cell_type": "code",
   "execution_count": 15,
   "id": "f188b42f",
   "metadata": {},
   "outputs": [],
   "source": [
    "# Get a view of the keys in the dictionary\n",
    "keys = prices.keys()  # keys is a view of the keys in prices"
   ]
  },
  {
   "cell_type": "code",
   "execution_count": 16,
   "id": "9c06e911",
   "metadata": {},
   "outputs": [
    {
     "data": {
      "text/plain": [
       "dict_keys([])"
      ]
     },
     "execution_count": 16,
     "metadata": {},
     "output_type": "execute_result"
    }
   ],
   "source": [
    "keys"
   ]
  },
  {
   "cell_type": "code",
   "execution_count": 17,
   "id": "72b28a90",
   "metadata": {},
   "outputs": [],
   "source": [
    "# Get a view of the values in the dictionary\n",
    "values = prices.values()  # values is a view of the values in prices"
   ]
  },
  {
   "cell_type": "code",
   "execution_count": 18,
   "id": "5354e586",
   "metadata": {},
   "outputs": [
    {
     "data": {
      "text/plain": [
       "dict_values([])"
      ]
     },
     "execution_count": 18,
     "metadata": {},
     "output_type": "execute_result"
    }
   ],
   "source": [
    "values"
   ]
  },
  {
   "cell_type": "code",
   "execution_count": 19,
   "id": "e4f6dd00",
   "metadata": {},
   "outputs": [],
   "source": [
    "# Get a view of the key-value pairs in the dictionary\n",
    "items = prices.items"
   ]
  },
  {
   "cell_type": "code",
   "execution_count": 20,
   "id": "edc23466",
   "metadata": {},
   "outputs": [
    {
     "data": {
      "text/plain": [
       "<function dict.items>"
      ]
     },
     "execution_count": 20,
     "metadata": {},
     "output_type": "execute_result"
    }
   ],
   "source": [
    "items\n"
   ]
  },
  {
   "cell_type": "markdown",
   "id": "7da6315f",
   "metadata": {},
   "source": [
    "* Yuvraj Sutar \n",
    "* yuvrajsutar009@gmail.com"
   ]
  }
 ],
 "metadata": {
  "kernelspec": {
   "display_name": "Python 3 (ipykernel)",
   "language": "python",
   "name": "python3"
  },
  "language_info": {
   "codemirror_mode": {
    "name": "ipython",
    "version": 3
   },
   "file_extension": ".py",
   "mimetype": "text/x-python",
   "name": "python",
   "nbconvert_exporter": "python",
   "pygments_lexer": "ipython3",
   "version": "3.9.7"
  }
 },
 "nbformat": 4,
 "nbformat_minor": 5
}
