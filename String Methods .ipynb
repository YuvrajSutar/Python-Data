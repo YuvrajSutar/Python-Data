{
 "cells": [
  {
   "cell_type": "markdown",
   "id": "076e1243",
   "metadata": {},
   "source": [
    "________________________________________________________________________________________________________________________\n",
    "\n",
    "\n",
    "* Yuvraj Sutar \n",
    "* yuvrajsutar009@gmail.com\n",
    "_ _________________________________________________________________________________________________________________________\n",
    "_  _________________________________________________________________________________________________________________________\n"
   ]
  },
  {
   "cell_type": "markdown",
   "id": "197faa44",
   "metadata": {},
   "source": [
    "There are many useful string methods in Python, some of the most commonly used ones include:\n",
    "\n",
    "str.upper(): Converts a string to uppercase.\n",
    "\n",
    "str.lower(): Converts a string to lowercase.\n",
    "\n",
    "str.strip(): Removes leading and trailing whitespace from a string.\n",
    "\n",
    "str.split(): Splits a string into a list of substrings based on a specified delimiter.\n",
    "\n",
    "str.replace(): Replaces all occurrences of a specified string with another string.\n",
    "\n",
    "str.join(): Joins a list of strings into a single string, with a specified delimiter.\n",
    "\n",
    "str.format(): Formats a string with placeholders for specified values.\n",
    "\n",
    "str.startswith(): Returns True if a string starts with a specified prefix, False otherwise.\n",
    "\n",
    "str.endswith(): Returns True if a string ends with a specified suffix, False otherwise.\n",
    "\n",
    "str.isalpha(): Returns True if a string contains only alphabetical characters, False otherwise.\n",
    "\n",
    "str.isdigit(): Returns True if a string contains only digits, False otherwise.\n",
    "\n",
    "str.isspace(): Returns True if a string contains only whitespace characters, False other"
   ]
  },
  {
   "cell_type": "code",
   "execution_count": 1,
   "id": "35322704",
   "metadata": {},
   "outputs": [
    {
     "name": "stdout",
     "output_type": "stream",
     "text": [
      "HELLO WORLD\n"
     ]
    }
   ],
   "source": [
    "# Convert a string to uppercase\n",
    "string = \"hello world\"\n",
    "uppercase_string = string.upper()\n",
    "print(uppercase_string)  # \"HELLO WORLD\""
   ]
  },
  {
   "cell_type": "code",
   "execution_count": 2,
   "id": "831396da",
   "metadata": {},
   "outputs": [
    {
     "name": "stdout",
     "output_type": "stream",
     "text": [
      "hello world\n"
     ]
    }
   ],
   "source": [
    "# Convert a string to lowercase\n",
    "string = \"HELLO WORLD\"\n",
    "lowercase_string = string.lower()\n",
    "print(lowercase_string)  # \"hello world\""
   ]
  },
  {
   "cell_type": "code",
   "execution_count": 3,
   "id": "fe03e091",
   "metadata": {},
   "outputs": [
    {
     "name": "stdout",
     "output_type": "stream",
     "text": [
      "hello world\n"
     ]
    }
   ],
   "source": [
    "# Remove leading and trailing whitespace from a string\n",
    "string = \"   hello world   \"\n",
    "stripped_string = string.strip()\n",
    "print(stripped_string)  # \"hello world\""
   ]
  },
  {
   "cell_type": "code",
   "execution_count": 4,
   "id": "84b09c24",
   "metadata": {},
   "outputs": [
    {
     "name": "stdout",
     "output_type": "stream",
     "text": [
      "goodbye world\n"
     ]
    }
   ],
   "source": [
    "# Replace all occurrences of a string with another string\n",
    "string = \"hello world\"\n",
    "new_string = string.replace(\"hello\", \"goodbye\")\n",
    "print(new_string)  # \"goodbye world\""
   ]
  },
  {
   "cell_type": "code",
   "execution_count": 5,
   "id": "5f2e163f",
   "metadata": {},
   "outputs": [
    {
     "name": "stdout",
     "output_type": "stream",
     "text": [
      "['hello', 'world', 'how', 'are', 'you']\n"
     ]
    }
   ],
   "source": [
    "# Split a string into a list of substrings based on a delimiter\n",
    "string = \"hello,world,how,are,you\"\n",
    "split_string = string.split(\",\")\n",
    "print(split_string)  # [\"hello\", \"world\", \"how\", \"are\", \"you\"]"
   ]
  },
  {
   "cell_type": "code",
   "execution_count": 6,
   "id": "b089d974",
   "metadata": {},
   "outputs": [
    {
     "name": "stdout",
     "output_type": "stream",
     "text": [
      "hello,world,how,are,you\n"
     ]
    }
   ],
   "source": [
    "# Join a list of strings into a single string using a delimiter\n",
    "string_list = [\"hello\", \"world\", \"how\", \"are\", \"you\"]\n",
    "joined_string = \",\".join(string_list)\n",
    "print(joined_string)  # \"hello,world,how,are,you\""
   ]
  },
  {
   "cell_type": "code",
   "execution_count": 7,
   "id": "37bbf339",
   "metadata": {},
   "outputs": [
    {
     "name": "stdout",
     "output_type": "stream",
     "text": [
      "6\n"
     ]
    }
   ],
   "source": [
    "# Find the index of the first occurrence of a substring in a string\n",
    "string = \"hello world\"\n",
    "index = string.find(\"world\")\n",
    "print(index)  # 6\n"
   ]
  },
  {
   "cell_type": "code",
   "execution_count": 8,
   "id": "bc6fa53f",
   "metadata": {},
   "outputs": [
    {
     "name": "stdout",
     "output_type": "stream",
     "text": [
      "True\n"
     ]
    }
   ],
   "source": [
    "# Check if a string starts with a specific substring\n",
    "string = \"hello world\"\n",
    "starts_with = string.startswith(\"hello\")\n",
    "print(starts_with)  # True"
   ]
  },
  {
   "cell_type": "code",
   "execution_count": 9,
   "id": "095309b2",
   "metadata": {},
   "outputs": [
    {
     "name": "stdout",
     "output_type": "stream",
     "text": [
      "True\n"
     ]
    }
   ],
   "source": [
    "# Check if a string ends with a specific substring\n",
    "string = \"hello world\"\n",
    "ends_with = string.endswith(\"world\")\n",
    "print(ends_with)  # True"
   ]
  },
  {
   "cell_type": "markdown",
   "id": "e6c0e3f1",
   "metadata": {},
   "source": [
    "* Yuvraj Sutar \n",
    "* yuvrajsutar009@gmail.com"
   ]
  }
 ],
 "metadata": {
  "kernelspec": {
   "display_name": "Python 3 (ipykernel)",
   "language": "python",
   "name": "python3"
  },
  "language_info": {
   "codemirror_mode": {
    "name": "ipython",
    "version": 3
   },
   "file_extension": ".py",
   "mimetype": "text/x-python",
   "name": "python",
   "nbconvert_exporter": "python",
   "pygments_lexer": "ipython3",
   "version": "3.9.7"
  }
 },
 "nbformat": 4,
 "nbformat_minor": 5
}
