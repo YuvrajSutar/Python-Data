{
 "cells": [
  {
   "cell_type": "markdown",
   "metadata": {},
   "source": [
    "________________________________________________________________________________________________________________________\n",
    "\n",
    "\n",
    "* Yuvraj Sutar \n",
    "* yuvrajsutar009@gmail.com\n",
    "_ _________________________________________________________________________________________________________________________\n",
    "_  _________________________________________________________________________________________________________________________\n"
   ]
  },
  {
   "cell_type": "markdown",
   "metadata": {},
   "source": [
    "# Lambda Functions\n"
   ]
  },
  {
   "cell_type": "markdown",
   "metadata": {},
   "source": [
    "- A lambda function is a small anonymous function.\n",
    "- In Python, anonymous function is a function that is defined without a name.\n",
    "- In Python anonymous functions are defined using the lambda keyword.Hence, anonymous functions are also called lambda functions.\n",
    "- Lambda functions can have any number of arguments but only one expression. The expression is evaluated and returned.\n"
   ]
  },
  {
   "cell_type": "raw",
   "metadata": {},
   "source": [
    "Syntax:"
   ]
  },
  {
   "cell_type": "raw",
   "metadata": {},
   "source": [
    "lambda arguments: expression"
   ]
  },
  {
   "cell_type": "code",
   "execution_count": 1,
   "metadata": {},
   "outputs": [
    {
     "name": "stdout",
     "output_type": "stream",
     "text": [
      "result of regular function 5\n",
      "result of lambda function 5\n"
     ]
    }
   ],
   "source": [
    "#difference between regular function and lambda function\n",
    "def add(x, y): \n",
    "    return x + y\n",
    "  \n",
    "# Call the function\n",
    "print('result of regular function',add(2, 3))\n",
    "\n",
    "\n",
    "add = lambda x, y : x + y \n",
    "  \n",
    "print('result of lambda function',add(2, 3))"
   ]
  },
  {
   "cell_type": "markdown",
   "metadata": {},
   "source": [
    "# Use of lambda() with filter\n",
    "\n",
    "\n",
    "- The filter() function in Python takes in a function and a list as arguments. This offers an elegant way to filter out all the elements of a sequence “sequence”, for which the function returns True."
   ]
  },
  {
   "cell_type": "code",
   "execution_count": 15,
   "metadata": {},
   "outputs": [
    {
     "name": "stdout",
     "output_type": "stream",
     "text": [
      "[4, 6, 8, 12]\n"
     ]
    },
    {
     "data": {
      "text/plain": [
       "[4, 6, 8, 12]"
      ]
     },
     "execution_count": 15,
     "metadata": {},
     "output_type": "execute_result"
    }
   ],
   "source": [
    "#Example  #copmarision + for  #reguler method\n",
    "my_list = [1, 5, 4, 6, 8, 11, 3, 12]  #even number\n",
    "l=[]\n",
    "for i in my_list:\n",
    "    if i %2==0:\n",
    "        l.append(i)\n",
    "print(l)\n",
    "\n",
    "\n",
    "#lambda with filter \n",
    "list(filter(lambda x:x%2==0,my_list))"
   ]
  },
  {
   "cell_type": "markdown",
   "metadata": {},
   "source": [
    "# Use of lambda() with map()\n",
    "\n",
    "\n",
    "- The map() function in Python takes in a function and a list as argument. The function is called with a lambda function and a list and a new list is returned which contains all the lambda modified items returned by that function for each item.\n",
    "\n"
   ]
  },
  {
   "cell_type": "code",
   "execution_count": 17,
   "metadata": {},
   "outputs": [
    {
     "name": "stdout",
     "output_type": "stream",
     "text": [
      "[2, 4, 8, 10, 4, 8, 16, 114, 90, 48, 106, 48]\n"
     ]
    },
    {
     "data": {
      "text/plain": [
       "[2, 4, 8, 10, 4, 8, 16, 114, 90, 48, 106, 48]"
      ]
     },
     "execution_count": 17,
     "metadata": {},
     "output_type": "execute_result"
    }
   ],
   "source": [
    "#arithmatic and for  #reguler method\n",
    "l=[1,2,4,5,2,4,8,57,45,24,53,24]\n",
    "l1=[]\n",
    "for i in l:\n",
    "    l1.append(i*2)\n",
    "print(l1)\n",
    "#Lambda with map\n",
    "list(map(lambda x:x*2,l))\n"
   ]
  },
  {
   "cell_type": "markdown",
   "metadata": {},
   "source": [
    "* Yuvraj Sutar \n",
    "* yuvrajsutar009@gmail.com"
   ]
  }
 ],
 "metadata": {
  "kernelspec": {
   "display_name": "Python 3 (ipykernel)",
   "language": "python",
   "name": "python3"
  },
  "language_info": {
   "codemirror_mode": {
    "name": "ipython",
    "version": 3
   },
   "file_extension": ".py",
   "mimetype": "text/x-python",
   "name": "python",
   "nbconvert_exporter": "python",
   "pygments_lexer": "ipython3",
   "version": "3.9.7"
  }
 },
 "nbformat": 4,
 "nbformat_minor": 2
}
