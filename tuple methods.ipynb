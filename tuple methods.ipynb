{
 "cells": [
  {
   "cell_type": "markdown",
   "id": "93cab30c",
   "metadata": {},
   "source": [
    "________________________________________________________________________________________________________________________\n",
    "\n",
    "\n",
    "* Yuvraj Sutar \n",
    "* yuvrajsutar009@gmail.com\n",
    "_ _________________________________________________________________________________________________________________________\n",
    "_  _________________________________________________________________________________________________________________________\n"
   ]
  },
  {
   "cell_type": "markdown",
   "id": "0335a7fb",
   "metadata": {},
   "source": [
    "These are some of the most commonly used functions and methods available for use with tuples in Python."
   ]
  },
  {
   "cell_type": "markdown",
   "id": "c91529ac",
   "metadata": {},
   "source": [
    "len(): Returns the length of the tuple. \n",
    "\n",
    "max(): Returns the maximum element of the tuple.\n",
    "\n",
    "min(): Returns the minimum element of the tuple.\n",
    "\n",
    "sum(): Returns the sum of all the elements of the tuple.\n",
    "\n",
    "sorted(): Returns a new sorted list from the elements of the tuple.\n",
    "\n",
    "tuple(): Converts an iterable (such as a list or a string) to a tuple."
   ]
  },
  {
   "cell_type": "code",
   "execution_count": 3,
   "id": "604f06ee",
   "metadata": {},
   "outputs": [],
   "source": [
    "numbers = (1, 2, 3, 4, 5)\n"
   ]
  },
  {
   "cell_type": "code",
   "execution_count": 4,
   "id": "b42633ea",
   "metadata": {},
   "outputs": [],
   "source": [
    "# Get the length of the tuple\n",
    "length = len(numbers)  # length is 5"
   ]
  },
  {
   "cell_type": "code",
   "execution_count": 9,
   "id": "4a7cb15a",
   "metadata": {},
   "outputs": [
    {
     "data": {
      "text/plain": [
       "5"
      ]
     },
     "execution_count": 9,
     "metadata": {},
     "output_type": "execute_result"
    }
   ],
   "source": [
    "length\n"
   ]
  },
  {
   "cell_type": "code",
   "execution_count": 4,
   "id": "d220e0df",
   "metadata": {},
   "outputs": [],
   "source": [
    "# Get the maximum element of the tuple\n",
    "maximum = max(numbers)  # maximum is 5"
   ]
  },
  {
   "cell_type": "code",
   "execution_count": 5,
   "id": "006d030c",
   "metadata": {},
   "outputs": [
    {
     "data": {
      "text/plain": [
       "5"
      ]
     },
     "execution_count": 5,
     "metadata": {},
     "output_type": "execute_result"
    }
   ],
   "source": [
    "maximum "
   ]
  },
  {
   "cell_type": "code",
   "execution_count": 6,
   "id": "85041bb4",
   "metadata": {},
   "outputs": [],
   "source": [
    "# Get the minimum element of the tuple\n",
    "minimum = min(numbers)  # minimum is 1"
   ]
  },
  {
   "cell_type": "code",
   "execution_count": 7,
   "id": "7590af84",
   "metadata": {},
   "outputs": [
    {
     "data": {
      "text/plain": [
       "1"
      ]
     },
     "execution_count": 7,
     "metadata": {},
     "output_type": "execute_result"
    }
   ],
   "source": [
    "minimum"
   ]
  },
  {
   "cell_type": "code",
   "execution_count": 8,
   "id": "e157912a",
   "metadata": {},
   "outputs": [],
   "source": [
    "# Get the sum of all the elements of the tuple\n",
    "total = sum(numbers)  # total is 15"
   ]
  },
  {
   "cell_type": "code",
   "execution_count": 9,
   "id": "6f031bc0",
   "metadata": {},
   "outputs": [
    {
     "data": {
      "text/plain": [
       "15"
      ]
     },
     "execution_count": 9,
     "metadata": {},
     "output_type": "execute_result"
    }
   ],
   "source": [
    "total\n"
   ]
  },
  {
   "cell_type": "code",
   "execution_count": 10,
   "id": "c8789d5f",
   "metadata": {},
   "outputs": [],
   "source": [
    "# Get a sorted list from the elements of the tuple\n",
    "sorted_numbers = sorted(numbers)  # sorted_numbers is [1, 2, 3, 4, 5]"
   ]
  },
  {
   "cell_type": "code",
   "execution_count": 11,
   "id": "51eeb684",
   "metadata": {},
   "outputs": [
    {
     "data": {
      "text/plain": [
       "[1, 2, 3, 4, 5]"
      ]
     },
     "execution_count": 11,
     "metadata": {},
     "output_type": "execute_result"
    }
   ],
   "source": [
    "sorted_numbers"
   ]
  },
  {
   "cell_type": "code",
   "execution_count": 12,
   "id": "996e56c0",
   "metadata": {},
   "outputs": [],
   "source": [
    "# Convert a list to a tuple\n",
    "numbers_tuple = tuple([1, 2, 3])  # numbers_tuple is (1, 2, 3)"
   ]
  },
  {
   "cell_type": "code",
   "execution_count": 13,
   "id": "f74dd9f2",
   "metadata": {},
   "outputs": [
    {
     "data": {
      "text/plain": [
       "(1, 2, 3)"
      ]
     },
     "execution_count": 13,
     "metadata": {},
     "output_type": "execute_result"
    }
   ],
   "source": [
    "numbers_tuple\n"
   ]
  },
  {
   "cell_type": "code",
   "execution_count": 14,
   "id": "daec6b0e",
   "metadata": {},
   "outputs": [],
   "source": [
    "# Convert a string to a tuple\n",
    "characters_tuple = tuple('abc')  # characters_tuple is ('a', 'b', 'c')"
   ]
  },
  {
   "cell_type": "code",
   "execution_count": 15,
   "id": "f47cdb81",
   "metadata": {},
   "outputs": [
    {
     "data": {
      "text/plain": [
       "('a', 'b', 'c')"
      ]
     },
     "execution_count": 15,
     "metadata": {},
     "output_type": "execute_result"
    }
   ],
   "source": [
    "characters_tuple"
   ]
  },
  {
   "cell_type": "code",
   "execution_count": 13,
   "id": "201b6119",
   "metadata": {},
   "outputs": [],
   "source": [
    "a={'name':'yuvraj'}"
   ]
  },
  {
   "cell_type": "code",
   "execution_count": 16,
   "id": "2a6143e9",
   "metadata": {},
   "outputs": [
    {
     "data": {
      "text/plain": [
       "str"
      ]
     },
     "execution_count": 16,
     "metadata": {},
     "output_type": "execute_result"
    }
   ],
   "source": [
    "type(a)"
   ]
  },
  {
   "cell_type": "markdown",
   "id": "2648dac5",
   "metadata": {},
   "source": [
    "............................................................................................................................................................................................................................................................."
   ]
  },
  {
   "cell_type": "markdown",
   "id": "ca529240",
   "metadata": {},
   "source": [
    "tuple method python with code example "
   ]
  },
  {
   "cell_type": "markdown",
   "id": "23219b18",
   "metadata": {},
   "source": [
    "1.len() - returns the number of elements in the tuple."
   ]
  },
  {
   "cell_type": "code",
   "execution_count": 11,
   "id": "167bb441",
   "metadata": {},
   "outputs": [
    {
     "data": {
      "text/plain": [
       "4"
      ]
     },
     "execution_count": 11,
     "metadata": {},
     "output_type": "execute_result"
    }
   ],
   "source": [
    "my_tuple = (1, 2, 3, 4)\n",
    "len(my_tuple)\n"
   ]
  },
  {
   "cell_type": "markdown",
   "id": "5e04f2fd",
   "metadata": {},
   "source": [
    "2.count() - returns the number of occurrences of a specific element in the tuple."
   ]
  },
  {
   "cell_type": "code",
   "execution_count": 10,
   "id": "133d6810",
   "metadata": {},
   "outputs": [
    {
     "data": {
      "text/plain": [
       "2"
      ]
     },
     "execution_count": 10,
     "metadata": {},
     "output_type": "execute_result"
    }
   ],
   "source": [
    "my_tuple = (1, 2, 3, 4, 2, 1)\n",
    "my_tuple.count(2)\n",
    "\n"
   ]
  },
  {
   "cell_type": "markdown",
   "id": "5737337e",
   "metadata": {},
   "source": [
    "3.index() - returns the index of the first occurrence of a specific element in the tuple."
   ]
  },
  {
   "cell_type": "code",
   "execution_count": 13,
   "id": "b1574e66",
   "metadata": {},
   "outputs": [
    {
     "data": {
      "text/plain": [
       "2"
      ]
     },
     "execution_count": 13,
     "metadata": {},
     "output_type": "execute_result"
    }
   ],
   "source": [
    "my_tuple = (1, 2, 3, 4, 2, 1)\n",
    "my_tuple.index(3)\n",
    "\n"
   ]
  },
  {
   "cell_type": "markdown",
   "id": "e951e22d",
   "metadata": {},
   "source": [
    "4.max() - returns the maximum element of the tuple."
   ]
  },
  {
   "cell_type": "code",
   "execution_count": 16,
   "id": "887a2741",
   "metadata": {},
   "outputs": [
    {
     "data": {
      "text/plain": [
       "4"
      ]
     },
     "execution_count": 16,
     "metadata": {},
     "output_type": "execute_result"
    }
   ],
   "source": [
    "my_tuple = (1, 2, 3, 4)\n",
    "max(my_tuple)\n",
    "\n"
   ]
  },
  {
   "cell_type": "markdown",
   "id": "ff33b1fa",
   "metadata": {},
   "source": [
    "5.min() - returns the minimum element of the tuple"
   ]
  },
  {
   "cell_type": "code",
   "execution_count": 18,
   "id": "c15fbf93",
   "metadata": {},
   "outputs": [
    {
     "data": {
      "text/plain": [
       "1"
      ]
     },
     "execution_count": 18,
     "metadata": {},
     "output_type": "execute_result"
    }
   ],
   "source": [
    "my_tuple = (1, 2, 3, 4)\n",
    "min(my_tuple)\n"
   ]
  },
  {
   "cell_type": "markdown",
   "id": "f4e7956e",
   "metadata": {},
   "source": [
    "6.sum() - returns the sum of all the elements of the tuple."
   ]
  },
  {
   "cell_type": "code",
   "execution_count": 19,
   "id": "5d7267bd",
   "metadata": {},
   "outputs": [
    {
     "data": {
      "text/plain": [
       "10"
      ]
     },
     "execution_count": 19,
     "metadata": {},
     "output_type": "execute_result"
    }
   ],
   "source": [
    "my_tuple = (1, 2, 3, 4)\n",
    "sum(my_tuple)\n",
    "\n"
   ]
  },
  {
   "cell_type": "markdown",
   "id": "69119eba",
   "metadata": {},
   "source": [
    "7.sorted() - returns a new sorted list from the elements of the tuple."
   ]
  },
  {
   "cell_type": "code",
   "execution_count": 21,
   "id": "f64f02f4",
   "metadata": {},
   "outputs": [
    {
     "data": {
      "text/plain": [
       "[1, 2, 3, 4]"
      ]
     },
     "execution_count": 21,
     "metadata": {},
     "output_type": "execute_result"
    }
   ],
   "source": [
    "my_tuple = (4, 2, 1, 3)\n",
    "sorted(my_tuple)\n"
   ]
  },
  {
   "cell_type": "markdown",
   "id": "dc098798",
   "metadata": {},
   "source": [
    "________________________________________________________________________________________________________________________\n",
    "\n",
    "\n",
    "* Yuvraj Sutar \n",
    "* yuvrajsutar009@gmail.com\n",
    "_ _________________________________________________________________________________________________________________________\n",
    "_  _________________________________________________________________________________________________________________________\n",
    "\n"
   ]
  }
 ],
 "metadata": {
  "kernelspec": {
   "display_name": "Python 3 (ipykernel)",
   "language": "python",
   "name": "python3"
  },
  "language_info": {
   "codemirror_mode": {
    "name": "ipython",
    "version": 3
   },
   "file_extension": ".py",
   "mimetype": "text/x-python",
   "name": "python",
   "nbconvert_exporter": "python",
   "pygments_lexer": "ipython3",
   "version": "3.9.7"
  }
 },
 "nbformat": 4,
 "nbformat_minor": 5
}
