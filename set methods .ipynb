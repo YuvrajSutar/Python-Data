{
 "cells": [
  {
   "cell_type": "markdown",
   "id": "b521322f",
   "metadata": {},
   "source": [
    "________________________________________________________________________________________________________________________\n",
    "\n",
    "\n",
    "* Yuvraj Sutar \n",
    "* yuvrajsutar009@gmail.com\n",
    "_ _________________________________________________________________________________________________________________________\n",
    "_  _________________________________________________________________________________________________________________________\n"
   ]
  },
  {
   "cell_type": "markdown",
   "id": "cb0fd3c9",
   "metadata": {},
   "source": [
    "append(): Adds an element to the end of a list.\n",
    "\n",
    "insert(): Inserts an element at a specific index in the list.\n",
    "\n",
    "extend(): Adds all the elements of a given list to the end of the current list.\n",
    "\n",
    "remove(): Removes the first occurrence of a specific element from the list.\n",
    "\n",
    "pop(): Removes and returns the element at a specific index in the list (defaults to the last element if no index is specified).\n",
    "\n",
    "clear(): Removes all elements from the list.\n",
    "\n",
    "index(): Returns the index of the first occurrence of a specific element in the list.\n",
    "\n",
    "count(): Returns the number of occurrences of a specific element in the list.\n",
    "\n",
    "sort(): Sorts the elements of the list in ascending order.\n",
    "\n",
    "reverse(): Reverses the order of the elements in the list."
   ]
  },
  {
   "cell_type": "code",
   "execution_count": 2,
   "id": "4143ded3",
   "metadata": {},
   "outputs": [],
   "source": [
    "s1 = {1, 2, 3}\n",
    "s2 = {3, 4, 5}"
   ]
  },
  {
   "cell_type": "code",
   "execution_count": 3,
   "id": "5bac013a",
   "metadata": {},
   "outputs": [],
   "source": [
    "# Add an element to the set\n",
    "s1.add(4)  # s1 is now {1, 2, 3, 4}"
   ]
  },
  {
   "cell_type": "code",
   "execution_count": 4,
   "id": "41dce161",
   "metadata": {},
   "outputs": [
    {
     "data": {
      "text/plain": [
       "{1, 2, 3, 4}"
      ]
     },
     "execution_count": 4,
     "metadata": {},
     "output_type": "execute_result"
    }
   ],
   "source": [
    "s1"
   ]
  },
  {
   "cell_type": "code",
   "execution_count": 5,
   "id": "10cedba3",
   "metadata": {},
   "outputs": [],
   "source": [
    "# Add multiple elements to the set\n",
    "s1.update([5, 6, 7])  # s1 is now {1, 2, 3, 4, 5, 6, 7}"
   ]
  },
  {
   "cell_type": "code",
   "execution_count": 6,
   "id": "c858b4d8",
   "metadata": {},
   "outputs": [
    {
     "data": {
      "text/plain": [
       "{1, 2, 3, 4, 5, 6, 7}"
      ]
     },
     "execution_count": 6,
     "metadata": {},
     "output_type": "execute_result"
    }
   ],
   "source": [
    "s1"
   ]
  },
  {
   "cell_type": "code",
   "execution_count": 7,
   "id": "f231c427",
   "metadata": {},
   "outputs": [],
   "source": [
    "# Remove an element from the set\n",
    "s1.remove(6)  # s1 is now {1, 2, 3, 4, 5, 7}"
   ]
  },
  {
   "cell_type": "code",
   "execution_count": 8,
   "id": "582ce18f",
   "metadata": {},
   "outputs": [
    {
     "data": {
      "text/plain": [
       "{1, 2, 3, 4, 5, 7}"
      ]
     },
     "execution_count": 8,
     "metadata": {},
     "output_type": "execute_result"
    }
   ],
   "source": [
    "s1\n"
   ]
  },
  {
   "cell_type": "code",
   "execution_count": 9,
   "id": "0d72985a",
   "metadata": {},
   "outputs": [],
   "source": [
    "# Remove an element from the set, if it is present\n",
    "s1.discard(8)  # s1 is unchanged"
   ]
  },
  {
   "cell_type": "code",
   "execution_count": 10,
   "id": "eda89162",
   "metadata": {},
   "outputs": [
    {
     "data": {
      "text/plain": [
       "{1, 2, 3, 4, 5, 7}"
      ]
     },
     "execution_count": 10,
     "metadata": {},
     "output_type": "execute_result"
    }
   ],
   "source": [
    "s1"
   ]
  },
  {
   "cell_type": "code",
   "execution_count": 11,
   "id": "5553df6c",
   "metadata": {},
   "outputs": [],
   "source": [
    "\n",
    "# Remove and return an arbitrary element from the set\n",
    "element = s1.pop()  # element is 1, and s1 is now {2, 3, 4, 5, 7}"
   ]
  },
  {
   "cell_type": "code",
   "execution_count": 12,
   "id": "d006e1cd",
   "metadata": {},
   "outputs": [
    {
     "data": {
      "text/plain": [
       "{2, 3, 4, 5, 7}"
      ]
     },
     "execution_count": 12,
     "metadata": {},
     "output_type": "execute_result"
    }
   ],
   "source": [
    "s1"
   ]
  },
  {
   "cell_type": "code",
   "execution_count": 13,
   "id": "e748c866",
   "metadata": {},
   "outputs": [],
   "source": [
    "# Remove all elements from the set\n",
    "s1.clear()  # s1 is now an empty set"
   ]
  },
  {
   "cell_type": "code",
   "execution_count": 14,
   "id": "c4c649da",
   "metadata": {},
   "outputs": [
    {
     "data": {
      "text/plain": [
       "set()"
      ]
     },
     "execution_count": 14,
     "metadata": {},
     "output_type": "execute_result"
    }
   ],
   "source": [
    "s1"
   ]
  },
  {
   "cell_type": "code",
   "execution_count": 15,
   "id": "d87f0200",
   "metadata": {},
   "outputs": [],
   "source": [
    "# Find the union of two sets\n",
    "s3 = s1.union(s2)  # s3 is {3, 4, 5}"
   ]
  },
  {
   "cell_type": "code",
   "execution_count": 16,
   "id": "b30fe053",
   "metadata": {},
   "outputs": [
    {
     "data": {
      "text/plain": [
       "{3, 4, 5}"
      ]
     },
     "execution_count": 16,
     "metadata": {},
     "output_type": "execute_result"
    }
   ],
   "source": [
    "s3"
   ]
  },
  {
   "cell_type": "code",
   "execution_count": 17,
   "id": "bf2c50e4",
   "metadata": {},
   "outputs": [],
   "source": [
    "# Find the intersection of two sets\n",
    "s4 = s1.intersection(s2)  # s4 is an empty set"
   ]
  },
  {
   "cell_type": "code",
   "execution_count": 18,
   "id": "96ba2c5c",
   "metadata": {},
   "outputs": [
    {
     "data": {
      "text/plain": [
       "set()"
      ]
     },
     "execution_count": 18,
     "metadata": {},
     "output_type": "execute_result"
    }
   ],
   "source": [
    "s4"
   ]
  },
  {
   "cell_type": "code",
   "execution_count": 19,
   "id": "84e92b27",
   "metadata": {},
   "outputs": [],
   "source": [
    "# Find the difference of two sets\n",
    "s5 = s1.difference(s2)  # s5 is an empty set"
   ]
  },
  {
   "cell_type": "code",
   "execution_count": 20,
   "id": "885008da",
   "metadata": {},
   "outputs": [
    {
     "data": {
      "text/plain": [
       "set()"
      ]
     },
     "execution_count": 20,
     "metadata": {},
     "output_type": "execute_result"
    }
   ],
   "source": [
    "s5"
   ]
  },
  {
   "cell_type": "code",
   "execution_count": 21,
   "id": "b7f53f21",
   "metadata": {},
   "outputs": [],
   "source": [
    "# Check if one set is a subset of another set\n",
    "is_subset = s2.issubset(s3)  # is_subset is True"
   ]
  },
  {
   "cell_type": "code",
   "execution_count": 22,
   "id": "89487af3",
   "metadata": {},
   "outputs": [
    {
     "data": {
      "text/plain": [
       "True"
      ]
     },
     "execution_count": 22,
     "metadata": {},
     "output_type": "execute_result"
    }
   ],
   "source": [
    "is_subset"
   ]
  },
  {
   "cell_type": "code",
   "execution_count": null,
   "id": "b8ecfacc",
   "metadata": {},
   "outputs": [],
   "source": []
  }
 ],
 "metadata": {
  "kernelspec": {
   "display_name": "Python 3 (ipykernel)",
   "language": "python",
   "name": "python3"
  },
  "language_info": {
   "codemirror_mode": {
    "name": "ipython",
    "version": 3
   },
   "file_extension": ".py",
   "mimetype": "text/x-python",
   "name": "python",
   "nbconvert_exporter": "python",
   "pygments_lexer": "ipython3",
   "version": "3.9.7"
  }
 },
 "nbformat": 4,
 "nbformat_minor": 5
}
