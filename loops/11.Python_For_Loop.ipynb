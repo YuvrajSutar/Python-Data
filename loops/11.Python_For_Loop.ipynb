{
 "cells": [
  {
   "cell_type": "markdown",
   "metadata": {},
   "source": [
    "________________________________________________________________________________________________________________________\n",
    "\n",
    "\n",
    "* Yuvraj Sutar \n",
    "* yuvrajsutar009@gmail.com\n",
    "_ _________________________________________________________________________________________________________________________\n",
    "_  _________________________________________________________________________________________________________________________"
   ]
  },
  {
   "cell_type": "markdown",
   "metadata": {},
   "source": [
    "  #  Python Loops"
   ]
  },
  {
   "cell_type": "markdown",
   "metadata": {},
   "source": [
    "\n",
    "- A loop statement allows us to execute a statement or group of statements multiple times. The following diagram illustrates a loop statement −"
   ]
  },
  {
   "attachments": {
    "loop_architecture.jpg": {
     "image/jpeg": "[encoded data removed]"
    }
   },
   "cell_type": "markdown",
   "metadata": {},
   "source": [
    "![loop_architecture.jpg](attachment:loop_architecture.jpg)"
   ]
  },
  {
   "cell_type": "markdown",
   "metadata": {},
   "source": [
    "* Python programming language provides the following types of loops to handle looping requirements."
   ]
  },
  {
   "cell_type": "markdown",
   "metadata": {},
   "source": [
    "1.For loop\n",
    "\n",
    "2.While Loop\n",
    "\n",
    "3.Nested Loops"
   ]
  },
  {
   "cell_type": "markdown",
   "metadata": {},
   "source": [
    "# For Loop"
   ]
  },
  {
   "cell_type": "markdown",
   "metadata": {},
   "source": [
    "- A for loop is used for iterating over a sequence (that is either a list, a tuple, a dictionary, a set, or a string).\n",
    "\n",
    "- This is less like the for keyword in other programming language, and works more like an iterator method as found in other object-orientated programming languages.\n"
   ]
  },
  {
   "cell_type": "raw",
   "metadata": {},
   "source": [
    "Syntax:\n",
    "[10,20,30,40]"
   ]
  },
  {
   "cell_type": "raw",
   "metadata": {},
   "source": [
    "for i in sequence:\n",
    "        statements(s)"
   ]
  },
  {
   "cell_type": "markdown",
   "metadata": {},
   "source": [
    "- If a sequence contains an expression list, it is evaluated first. Then, the first item in the sequence is assigned to the iterating variable iterating_var.\n",
    "- Next, the statements block is executed. Each item in the list is assigned to iterating_var, and the statement(s) block is executed until the entire sequence is exhausted.    "
   ]
  },
  {
   "attachments": {
    "python_for_loop.jpg": {
     "image/jpeg": "[encoded data removed]"
    }
   },
   "cell_type": "markdown",
   "metadata": {},
   "source": [
    "* Flow Diagram:\n",
    "\n",
    "\n",
    "\n",
    "![python_for_loop.jpg](attachment:python_for_loop.jpg)"
   ]
  },
  {
   "cell_type": "code",
   "execution_count": 3,
   "metadata": {},
   "outputs": [
    {
     "name": "stdout",
     "output_type": "stream",
     "text": [
      "1\n",
      "2\n",
      "3\n",
      "4\n",
      "5\n",
      "6\n",
      "7\n",
      "8\n",
      "9\n"
     ]
    }
   ],
   "source": [
    "#Example\n",
    "#Print each fruit in a fruit list:\n",
    "#TCC=\"apple\"\n",
    "#TCC = \"banana\"\n",
    "\n",
    "fruits = [\"apple\", \"banana\", \"cherry\",\"ABC\",\"AIS\"]\n",
    "[0,1,2,3,4]\n",
    "for a in range(5):\n",
    "    for j in range(5):\n",
    "        print(\"A\")"
   ]
  },
  {
   "cell_type": "code",
   "execution_count": 3,
   "metadata": {},
   "outputs": [
    {
     "data": {
      "text/plain": [
       "array([1, 3, 5, 7, 9])"
      ]
     },
     "execution_count": 3,
     "metadata": {},
     "output_type": "execute_result"
    }
   ],
   "source": [
    "import numpy as np\n",
    "np.arange(1,10,2)"
   ]
  },
  {
   "cell_type": "code",
   "execution_count": 5,
   "metadata": {},
   "outputs": [
    {
     "name": "stdout",
     "output_type": "stream",
     "text": [
      "0\n",
      "1\n",
      "2\n",
      "3\n",
      "4\n",
      "5\n",
      "6\n",
      "7\n",
      "8\n",
      "9\n"
     ]
    }
   ],
   "source": [
    "#range(1,5)  #(0,1,2,3,4)\n",
    "\n",
    "for i in range(5):\n",
    "    for j in range(5):\n",
    "        for k in range(5):\n",
    "            print(\"TCC\")\n",
    "        \n",
    "\n",
    "   \n"
   ]
  },
  {
   "cell_type": "code",
   "execution_count": 7,
   "metadata": {},
   "outputs": [
    {
     "name": "stdout",
     "output_type": "stream",
     "text": [
      "1 is odd number\n",
      "2 is even number\n",
      "3 is odd number\n",
      "4 is even number\n",
      "5 is odd number\n",
      "6 is even number\n",
      "7 is odd number\n",
      "8 is even number\n",
      "9 is odd number\n",
      "10 is even number\n",
      "11 is odd number\n",
      "12 is even number\n",
      "13 is odd number\n",
      "14 is even number\n",
      "15 is odd number\n",
      "16 is even number\n",
      "17 is odd number\n",
      "18 is even number\n",
      "19 is odd number\n",
      "20 is even number\n",
      "21 is odd number\n",
      "22 is even number\n",
      "23 is odd number\n",
      "24 is even number\n",
      "25 is odd number\n",
      "26 is even number\n",
      "27 is odd number\n",
      "28 is even number\n",
      "29 is odd number\n",
      "30 is even number\n",
      "31 is odd number\n",
      "32 is even number\n",
      "33 is odd number\n",
      "34 is even number\n",
      "35 is odd number\n",
      "36 is even number\n",
      "37 is odd number\n",
      "38 is even number\n",
      "39 is odd number\n",
      "40 is even number\n",
      "41 is odd number\n",
      "42 is even number\n",
      "43 is odd number\n",
      "44 is even number\n",
      "45 is odd number\n",
      "46 is even number\n",
      "47 is odd number\n",
      "48 is even number\n",
      "49 is odd number\n",
      "50 is even number\n",
      "51 is odd number\n",
      "52 is even number\n",
      "53 is odd number\n",
      "54 is even number\n",
      "55 is odd number\n",
      "56 is even number\n",
      "57 is odd number\n",
      "58 is even number\n",
      "59 is odd number\n",
      "60 is even number\n",
      "61 is odd number\n",
      "62 is even number\n",
      "63 is odd number\n",
      "64 is even number\n",
      "65 is odd number\n",
      "66 is even number\n",
      "67 is odd number\n",
      "68 is even number\n",
      "69 is odd number\n",
      "70 is even number\n",
      "71 is odd number\n",
      "72 is even number\n",
      "73 is odd number\n",
      "74 is even number\n",
      "75 is odd number\n",
      "76 is even number\n",
      "77 is odd number\n",
      "78 is even number\n",
      "79 is odd number\n",
      "80 is even number\n",
      "81 is odd number\n",
      "82 is even number\n",
      "83 is odd number\n",
      "84 is even number\n",
      "85 is odd number\n",
      "86 is even number\n",
      "87 is odd number\n",
      "88 is even number\n",
      "89 is odd number\n",
      "90 is even number\n",
      "91 is odd number\n",
      "92 is even number\n",
      "93 is odd number\n",
      "94 is even number\n",
      "95 is odd number\n",
      "96 is even number\n",
      "97 is odd number\n",
      "98 is even number\n",
      "99 is odd number\n",
      "100 is even number\n"
     ]
    }
   ],
   "source": [
    "for i in range(1,101):\n",
    "    if i%2==0:\n",
    "        print(i,\"is even number\")\n",
    "    else:\n",
    "        print(i,\"is odd number\")\n",
    "        "
   ]
  },
  {
   "cell_type": "code",
   "execution_count": 16,
   "metadata": {},
   "outputs": [
    {
     "name": "stdout",
     "output_type": "stream",
     "text": [
      "1\n",
      "4\n",
      "9\n",
      "16\n",
      "25\n",
      "36\n",
      "49\n",
      "64\n",
      "81\n",
      "100\n"
     ]
    }
   ],
   "source": [
    "for i in range(1,11):\n",
    "    print(i*i)"
   ]
  },
  {
   "cell_type": "markdown",
   "metadata": {},
   "source": [
    "* Looping Through a String\n",
    "\n",
    "Even strings are iterable objects, they contain a sequence of characters:"
   ]
  },
  {
   "cell_type": "code",
   "execution_count": 10,
   "metadata": {
    "scrolled": true
   },
   "outputs": [
    {
     "name": "stdout",
     "output_type": "stream",
     "text": [
      "b\n",
      "a\n",
      "n\n",
      "a\n",
      "n\n",
      "a\n"
     ]
    }
   ],
   "source": [
    "#Example\n",
    "#Loop through the letters in the word \"banana\":\n",
    "\n",
    "for x in \"banana\":\n",
    "    print(x)"
   ]
  },
  {
   "cell_type": "markdown",
   "metadata": {},
   "source": [
    "# Using else Statement with Loops \n",
    "\n",
    "- Python supports having an else statement associated with a loop statement.\n",
    "\n",
    "- If the 'else' statement is used with a 'for loop', the 'else' block is executed only if for loops terminates normally \n",
    "\n",
    "- If the 'else' statement is used with a while loop, the 'else' statement is executed when the condition becomes false.\n",
    "\n"
   ]
  },
  {
   "cell_type": "code",
   "execution_count": 8,
   "metadata": {},
   "outputs": [
    {
     "name": "stdout",
     "output_type": "stream",
     "text": [
      "the list doesnot contain even number\n",
      "the list contains an even number\n"
     ]
    }
   ],
   "source": [
    "\n",
    "#The following example illustrates the combination of an else statement with a for statement that searches for even number in given list.\n",
    "\n",
    "numbers = [11,32,55,39,55,75,37,21,23,41,13]\n",
    "\n",
    "for num in numbers:\n",
    "    if num%2 == 0:\n",
    "        print ('the list contains an even number')\n",
    "        break\n",
    "    else:\n",
    "        print ('the list doesnot contain even number')"
   ]
  },
  {
   "cell_type": "code",
   "execution_count": 10,
   "metadata": {},
   "outputs": [
    {
     "name": "stdout",
     "output_type": "stream",
     "text": [
      "odd number\n"
     ]
    }
   ],
   "source": [
    " num =21\n",
    "if num%2 == 0:\n",
    "    print ('even number')\n",
    "else:\n",
    "    print ('odd number')"
   ]
  },
  {
   "cell_type": "code",
   "execution_count": 12,
   "metadata": {},
   "outputs": [
    {
     "name": "stdout",
     "output_type": "stream",
     "text": [
      "1 odd number\n",
      "2 even number\n",
      "3 odd number\n",
      "4 even number\n",
      "5 odd number\n",
      "6 even number\n",
      "7 odd number\n",
      "8 even number\n",
      "9 odd number\n",
      "10 even number\n",
      "11 odd number\n",
      "12 even number\n",
      "13 odd number\n",
      "14 even number\n",
      "15 odd number\n",
      "16 even number\n",
      "17 odd number\n",
      "18 even number\n",
      "19 odd number\n",
      "20 even number\n",
      "21 odd number\n",
      "22 even number\n",
      "23 odd number\n",
      "24 even number\n",
      "25 odd number\n",
      "26 even number\n",
      "27 odd number\n",
      "28 even number\n",
      "29 odd number\n",
      "30 even number\n",
      "31 odd number\n",
      "32 even number\n",
      "33 odd number\n",
      "34 even number\n",
      "35 odd number\n",
      "36 even number\n",
      "37 odd number\n",
      "38 even number\n",
      "39 odd number\n",
      "40 even number\n",
      "41 odd number\n",
      "42 even number\n",
      "43 odd number\n",
      "44 even number\n",
      "45 odd number\n",
      "46 even number\n",
      "47 odd number\n",
      "48 even number\n",
      "49 odd number\n",
      "50 even number\n",
      "51 odd number\n",
      "52 even number\n",
      "53 odd number\n",
      "54 even number\n",
      "55 odd number\n",
      "56 even number\n",
      "57 odd number\n",
      "58 even number\n",
      "59 odd number\n",
      "60 even number\n",
      "61 odd number\n",
      "62 even number\n",
      "63 odd number\n",
      "64 even number\n",
      "65 odd number\n",
      "66 even number\n",
      "67 odd number\n",
      "68 even number\n",
      "69 odd number\n",
      "70 even number\n",
      "71 odd number\n",
      "72 even number\n",
      "73 odd number\n",
      "74 even number\n",
      "75 odd number\n",
      "76 even number\n",
      "77 odd number\n",
      "78 even number\n",
      "79 odd number\n",
      "80 even number\n",
      "81 odd number\n",
      "82 even number\n",
      "83 odd number\n",
      "84 even number\n",
      "85 odd number\n",
      "86 even number\n",
      "87 odd number\n",
      "88 even number\n",
      "89 odd number\n",
      "90 even number\n",
      "91 odd number\n",
      "92 even number\n",
      "93 odd number\n",
      "94 even number\n",
      "95 odd number\n",
      "96 even number\n",
      "97 odd number\n",
      "98 even number\n",
      "99 odd number\n",
      "100 even number\n"
     ]
    }
   ],
   "source": [
    "for num in range(1,101):\n",
    "    if num%2 == 0:\n",
    "        print (num,'even number')\n",
    "    else:\n",
    "        print (num,'odd number')\n",
    "    "
   ]
  },
  {
   "cell_type": "code",
   "execution_count": null,
   "metadata": {},
   "outputs": [],
   "source": []
  }
 ],
 "metadata": {
  "kernelspec": {
   "display_name": "Python 3 (ipykernel)",
   "language": "python",
   "name": "python3"
  },
  "language_info": {
   "codemirror_mode": {
    "name": "ipython",
    "version": 3
   },
   "file_extension": ".py",
   "mimetype": "text/x-python",
   "name": "python",
   "nbconvert_exporter": "python",
   "pygments_lexer": "ipython3",
   "version": "3.9.7"
  }
 },
 "nbformat": 4,
 "nbformat_minor": 2
}
