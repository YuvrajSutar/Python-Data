{
 "cells": [
  {
   "cell_type": "markdown",
   "metadata": {},
   "source": [
    "________________________________________________________________________________________________________________________\n",
    "\n",
    "\n",
    "- Contact: 9975707273   Gmail: prajyotpatil2202@gmail.com\n",
    "_ _________________________________________________________________________________________________________________________\n",
    "_  _________________________________________________________________________________________________________________________"
   ]
  },
  {
   "cell_type": "markdown",
   "metadata": {},
   "source": [
    "# While"
   ]
  },
  {
   "cell_type": "markdown",
   "metadata": {},
   "source": [
    "## loop"
   ]
  },
  {
   "cell_type": "markdown",
   "metadata": {},
   "source": [
    "my name is xyz"
   ]
  },
  {
   "cell_type": "raw",
   "metadata": {},
   "source": [
    "- A while loop statement in Python programming language repeatedly executes a target statement as long as a given condition is true.\n"
   ]
  },
  {
   "cell_type": "raw",
   "metadata": {},
   "source": [
    "while expression:\n",
    "    statement(s)"
   ]
  },
  {
   "cell_type": "markdown",
   "metadata": {},
   "source": [
    "Syntax:"
   ]
  },
  {
   "attachments": {
    "python_while_loop.jpg": {
     "image/jpeg": "[encoded data removed]"
    }
   },
   "cell_type": "markdown",
   "metadata": {},
   "source": [
    "* Flow Diagram:\n",
    "\n",
    "![python_while_loop.jpg](attachment:python_while_loop.jpg)\n",
    "\n",
    "-Here, a key point of the while loop is that the loop might not ever run. When the condition is tested and the result is false, the loop body will be skipped and the first statement after the while loop will be executed.\n"
   ]
  },
  {
   "cell_type": "code",
   "execution_count": 3,
   "metadata": {},
   "outputs": [
    {
     "name": "stdout",
     "output_type": "stream",
     "text": [
      "Abc\n",
      "Abc\n",
      "Abc\n",
      "Abc\n",
      "Abc\n",
      "Abc\n",
      "Abc\n",
      "Abc\n",
      "Abc\n",
      "Abc\n"
     ]
    }
   ],
   "source": [
    "#Example\n",
    "#0,1,2,3,4,5,6,7,8,9\n",
    "i=12\n",
    "while i < 10:\n",
    "    print(\"Abc\")\n",
    "    i=i+1\n",
    "    \n",
    "    \n",
    "\n",
    "    "
   ]
  },
  {
   "cell_type": "code",
   "execution_count": 2,
   "metadata": {},
   "outputs": [
    {
     "name": "stdout",
     "output_type": "stream",
     "text": [
      "The count is: 0\n",
      "The count is: 1\n",
      "The count is: 2\n",
      "The count is: 3\n",
      "The count is: 4\n",
      "The count is: 5\n",
      "The count is: 6\n",
      "The count is: 7\n",
      "The count is: 8\n",
      "Good bye!\n"
     ]
    }
   ],
   "source": [
    "#Example\n",
    "count = 0\n",
    "while (count < 9):\n",
    "    print ('The count is:', count)\n",
    "    count = count + 1\n",
    "\n",
    "print (\"Good bye!\")"
   ]
  },
  {
   "cell_type": "markdown",
   "metadata": {},
   "source": [
    "# Using else Statement with Loops\n",
    "\n",
    "- If the else statement is used with a for loop, the else statement is executed when the loop has exhausted iterating the list.\n",
    "\n",
    "- If the else statement is used with a while loop, the else statement is executed when the condition becomes false.\n"
   ]
  },
  {
   "cell_type": "code",
   "execution_count": 3,
   "metadata": {},
   "outputs": [
    {
     "name": "stdout",
     "output_type": "stream",
     "text": [
      "0  is  less than 5\n",
      "1  is  less than 5\n",
      "2  is  less than 5\n",
      "3  is  less than 5\n",
      "4  is  less than 5\n",
      "5  is not less than 5\n"
     ]
    }
   ],
   "source": [
    "#Example\n",
    "count = 0\n",
    "while count < 5:\n",
    "    print (count, \" is  less than 5\")\n",
    "    count = count + 1\n",
    "else:\n",
    "    print (count, \" is not less than 5\")"
   ]
  },
  {
   "cell_type": "code",
   "execution_count": null,
   "metadata": {},
   "outputs": [],
   "source": []
  }
 ],
 "metadata": {
  "kernelspec": {
   "display_name": "Python 3 (ipykernel)",
   "language": "python",
   "name": "python3"
  },
  "language_info": {
   "codemirror_mode": {
    "name": "ipython",
    "version": 3
   },
   "file_extension": ".py",
   "mimetype": "text/x-python",
   "name": "python",
   "nbconvert_exporter": "python",
   "pygments_lexer": "ipython3",
   "version": "3.9.7"
  }
 },
 "nbformat": 4,
 "nbformat_minor": 2
}
