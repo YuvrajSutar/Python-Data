{
 "cells": [
  {
   "cell_type": "markdown",
   "id": "ad61c942",
   "metadata": {},
   "source": [
    "________________________________________________________________________________________________________________________\n",
    "\n",
    "\n",
    "* Yuvraj Sutar \n",
    "* yuvrajsutar009@gmail.com\n",
    "_ _________________________________________________________________________________________________________________________\n",
    "_  _________________________________________________________________________________________________________________________"
   ]
  },
  {
   "cell_type": "markdown",
   "id": "fd3b1854",
   "metadata": {},
   "source": [
    "### write in short about \"if ilif else\" loop"
   ]
  },
  {
   "cell_type": "markdown",
   "id": "691caac2",
   "metadata": {},
   "source": [
    "The if-elif-else loop in programming is a conditional statement that allows for multiple checks and execution of code blocks based on the truthiness of given conditions. It starts with an if statement that defines the initial condition to be checked. If it evaluates to True, the code block under the if statement runs. If it evaluates to False, the program moves on to check the next elif condition (if any), and so on. If none of the conditions are True, the code block under the else statement runs."
   ]
  },
  {
   "cell_type": "markdown",
   "id": "f302f521",
   "metadata": {},
   "source": [
    "### write in short about \"for \" loop"
   ]
  },
  {
   "cell_type": "markdown",
   "id": "d579bd4f",
   "metadata": {},
   "source": [
    "The for loop in Python is used to iterate over a sequence (such as a list, tuple, string, or range) and execute a block of code for each item in the sequence. The loop variable takes on each value in the sequence one by one in the order they appear, and the code block is executed for each value. The for loop is a convenient way to perform a repetitive task for a known number of times, and is often used for tasks such as traversing a list, printing elements in a sequence, or summing up a list of numbers. The loop continues until all elements in the sequence have been processed."
   ]
  },
  {
   "cell_type": "markdown",
   "id": "9e2d3416",
   "metadata": {},
   "source": [
    "### write in short about \"While \" loop"
   ]
  },
  {
   "cell_type": "markdown",
   "id": "3945d52a",
   "metadata": {},
   "source": [
    "The while loop in Python is used to repeatedly execute a block of code as long as a given condition is True. The loop checks the condition at the beginning of each iteration, and if it evaluates to False, the loop terminates and the program continues with the next statement after the loop. The while loop is useful for situations where you don't know in advance how many times you need to repeat a task, or when you need to keep repeating the task until a certain condition is met. It is important to include a way to change the condition to False within the loop, otherwise the loop will run indefinitely and may result in an infinite loop."
   ]
  },
  {
   "cell_type": "markdown",
   "id": "d2f89b1b",
   "metadata": {},
   "source": [
    "# write code user define function"
   ]
  },
  {
   "cell_type": "markdown",
   "id": "ae129d79",
   "metadata": {},
   "source": [
    "* 1) Write a Python function to sum all the numbers in a list. name of functon SUMALL\n",
    "* 2) Write a Python function to multiply all the numbers in a list.  name of functon MULTALL\n",
    "* 3) Write a Python function to print the even numbers from a given list. (using filter function) name of functon odd_even\n",
    "* 4) Write a Python function to print the mean value from a given list. name of functon MEAN\n",
    "* 5) Write a Python function to print the Standerd Deviation value from a given list. name of functon SD\n",
    "* 6) Write a Python function to creat new list from any given list which is divisible by 2 and 3. name of functon Two_Three\n",
    "\n"
   ]
  },
  {
   "cell_type": "code",
   "execution_count": 8,
   "id": "fc397c10",
   "metadata": {},
   "outputs": [],
   "source": [
    "#7 Write a program to print the following pattern.\n"
   ]
  },
  {
   "cell_type": "code",
   "execution_count": 7,
   "id": "e11964a0",
   "metadata": {},
   "outputs": [
    {
     "name": "stdout",
     "output_type": "stream",
     "text": [
      "* \n",
      "* * \n",
      "* * * \n",
      "* * * * \n",
      "* * * * * \n"
     ]
    }
   ],
   "source": [
    "#for any n star(5) \n",
    "\n",
    "for i in range(1,6):\n",
    "    print(\"* \" * i)"
   ]
  },
  {
   "cell_type": "code",
   "execution_count": 10,
   "id": "64c5aee2",
   "metadata": {},
   "outputs": [],
   "source": [
    "#8 Write a program to print the following pattern.\n"
   ]
  },
  {
   "cell_type": "code",
   "execution_count": 10,
   "id": "dc6d5113",
   "metadata": {},
   "outputs": [
    {
     "name": "stdout",
     "output_type": "stream",
     "text": [
      "*****\n",
      "****\n",
      "***\n",
      "**\n",
      "*\n"
     ]
    }
   ],
   "source": [
    "#for any n star(5) \n",
    "def starRevers(n):\n",
    "    for i in range(n, 0, -1):\n",
    "        print(\"*\" * i)\n",
    "\n",
    "starRevers(5)\n"
   ]
  },
  {
   "cell_type": "markdown",
   "id": "9108956d",
   "metadata": {},
   "source": [
    "# for loop"
   ]
  },
  {
   "cell_type": "markdown",
   "id": "69538bf7",
   "metadata": {},
   "source": [
    "* 9) creat list of 1 to 100 numbers using for loop \n",
    "* 10) creat 3 list city,population and home price len of 5 and using format function write same sentense for all  using for loop  "
   ]
  },
  {
   "cell_type": "markdown",
   "id": "e1a4e8c7",
   "metadata": {},
   "source": [
    "# if loop"
   ]
  },
  {
   "cell_type": "markdown",
   "id": "75a566d2",
   "metadata": {},
   "source": [
    "* 11) write if loop for marking (distinction, class1,class2,class3, fail)\n",
    "* 12) write if loop for odd even\n",
    "* 13) write if loop for checking number is divisible by 4,5,7,9.\n"
   ]
  },
  {
   "cell_type": "markdown",
   "id": "43c09f96",
   "metadata": {},
   "source": [
    "# Function"
   ]
  },
  {
   "cell_type": "markdown",
   "id": "862e3668",
   "metadata": {},
   "source": [
    "* write two example for lambda\n",
    "* write two example for filter\n",
    "* write two example for format\n",
    "* write two example for map"
   ]
  },
  {
   "cell_type": "code",
   "execution_count": 6,
   "id": "b31461e2",
   "metadata": {},
   "outputs": [
    {
     "name": "stdout",
     "output_type": "stream",
     "text": [
      "[1, 2, 3, 4, 5, 6, 7, 8, 9, 10, 11, 12, 13, 14, 15, 16, 17, 18, 19, 20, 21, 22, 23, 24, 25, 26, 27, 28, 29, 30, 31, 32, 33, 34, 35, 36, 37, 38, 39, 40, 41, 42, 43, 44, 45, 46, 47, 48, 49, 50, 51, 52, 53, 54, 55, 56, 57, 58, 59, 60, 61, 62, 63, 64, 65, 66, 67, 68, 69, 70, 71, 72, 73, 74, 75, 76, 77, 78, 79, 80, 81, 82, 83, 84, 85, 86, 87, 88, 89, 90, 91, 92, 93, 94, 95, 96, 97, 98, 99, 100]\n"
     ]
    }
   ],
   "source": [
    "# for looop\n",
    "\n",
    "# 9 creat list of 1 to 100 numbers using for loop\n",
    "my_list = []\n",
    "\n",
    "for i in range(1, 101):\n",
    "  my_list.append(i)\n",
    "\n",
    "print(my_list)\n"
   ]
  },
  {
   "cell_type": "code",
   "execution_count": 5,
   "id": "96d2e276",
   "metadata": {},
   "outputs": [
    {
     "name": "stdout",
     "output_type": "stream",
     "text": [
      "In pune, the population is 8,175,133 and the median home price is 6,000.00.\n",
      "In bmt, the population is 3,792,621 and the median home price is 5,000.00.\n",
      "In morgon, the population is 2,695,598 and the median home price is 4,000.00.\n",
      "In nira, the population is 2,325,502 and the median home price is 3,500.00.\n",
      "In vadgaon, the population is 1,626,078 and the median home price is 3,000.00.\n"
     ]
    }
   ],
   "source": [
    "# 10) creat 3 list city,population and home price len of 5 and using format function write same sentense for all using for loop\n",
    "city = ['pune', 'bmt', 'morgon', 'nira', 'vadgaon']\n",
    "population = [8175133, 3792621, 2695598, 2325502, 1626078]\n",
    "home_price = [6000, 5000, 4000, 3500, 3000]\n",
    "\n",
    "for i in range(5):\n",
    "  sentence = \"In {}, the population is {:,} and the median home price is {:,.2f}.\".format(city[i], population[i], home_price[i])\n",
    "  print(sentence)\n"
   ]
  },
  {
   "cell_type": "code",
   "execution_count": 4,
   "id": "b835200c",
   "metadata": {},
   "outputs": [
    {
     "name": "stdout",
     "output_type": "stream",
     "text": [
      "Enter your marks: 20\n",
      "Fail\n"
     ]
    }
   ],
   "source": [
    "# if loop\n",
    "# 11) write if loop for marking (distinction, class1,class2,class3, fail)\n",
    "\n",
    "marks = float(input(\"Enter your marks: \"))\n",
    "\n",
    "if marks >= 80:\n",
    "    print(\"Distinction\")\n",
    "elif marks >= 60:\n",
    "    print(\"First Class\")\n",
    "elif marks >= 45:\n",
    "    print(\"Second Class\")\n",
    "elif marks >= 35:\n",
    "    print(\"Third Class\")\n",
    "else:\n",
    "    print(\"Fail\")\n"
   ]
  },
  {
   "cell_type": "code",
   "execution_count": null,
   "id": "6939c67e",
   "metadata": {},
   "outputs": [],
   "source": []
  }
 ],
 "metadata": {
  "kernelspec": {
   "display_name": "Python 3 (ipykernel)",
   "language": "python",
   "name": "python3"
  },
  "language_info": {
   "codemirror_mode": {
    "name": "ipython",
    "version": 3
   },
   "file_extension": ".py",
   "mimetype": "text/x-python",
   "name": "python",
   "nbconvert_exporter": "python",
   "pygments_lexer": "ipython3",
   "version": "3.9.7"
  }
 },
 "nbformat": 4,
 "nbformat_minor": 5
}
